{
 "cells": [
  {
   "cell_type": "markdown",
   "metadata": {},
   "source": [
    "# 파이썬의 파일 입출력"
   ]
  },
  {
   "cell_type": "markdown",
   "metadata": {},
   "source": [
    "## 일반 파일 입출력"
   ]
  },
  {
   "cell_type": "markdown",
   "metadata": {},
   "source": [
    "`open` 명령을 사용하면 파일 시스템 상에 새 파일을 생성하거나 존재하는 파일을 읽어들일 수 있다.\n",
    "\n",
    "`open` 명령을 사용하려면 파일 이름 문자열과 파일 모드(mode) 문자열을 입력한다. 파일 모드 문자열의 종류는 다음과 같다.\n",
    "\n",
    "* `r` : 읽기\n",
    "* `w` : 쓰기\n",
    "* `a` : 첨부\n",
    "\n",
    "파일 모드 문자열에 `+` 문자가 붙어있으면 기존에 파일이 존재하고 있다고 가정하므로 파일 없는 경우 에러가 발생한다.\n"
   ]
  },
  {
   "cell_type": "markdown",
   "metadata": {},
   "source": [
    "### 새 파일 생성"
   ]
  },
  {
   "cell_type": "code",
   "execution_count": 51,
   "metadata": {
    "collapsed": false
   },
   "outputs": [],
   "source": [
    "%rm -f foo.txt"
   ]
  },
  {
   "cell_type": "code",
   "execution_count": 13,
   "metadata": {
    "collapsed": false
   },
   "outputs": [],
   "source": [
    "f = open(\"foo.txt\", \"w\")"
   ]
  },
  {
   "cell_type": "code",
   "execution_count": 14,
   "metadata": {
    "collapsed": false
   },
   "outputs": [
    {
     "name": "stdout",
     "output_type": "stream",
     "text": [
      "foo.txt\r\n"
     ]
    }
   ],
   "source": [
    "%ls foo.txt"
   ]
  },
  {
   "cell_type": "code",
   "execution_count": 15,
   "metadata": {
    "collapsed": true
   },
   "outputs": [],
   "source": [
    "%cat foo.txt"
   ]
  },
  {
   "cell_type": "markdown",
   "metadata": {},
   "source": [
    "### 파일에 쓰기"
   ]
  },
  {
   "cell_type": "markdown",
   "metadata": {},
   "source": [
    "`open` 명령은 생성되거나 열린 파일에 대한 파일 객체를 생성하는데 이 파일 객체는 다음과 같은 메서드를 제공한다.\n",
    "\n",
    "* `read`: 1 바이트 읽기\n",
    "* `readline`: 1줄 읽기\n",
    "* `readlines`: 모든 줄을 읽어서 리스트로 반환\n",
    "* `write`: 문자열 쓰기\n",
    "* `writelines`: 리스트에 있는 모든 문자열 쓰기\n",
    "* `close`: 파일 객체 닫기\n",
    "\n",
    "\n",
    "파일 객체를 사용한 다음에는 꼭 `close` 메서드를 호출하여 닫아야 한다."
   ]
  },
  {
   "cell_type": "code",
   "execution_count": 16,
   "metadata": {
    "collapsed": true
   },
   "outputs": [],
   "source": [
    "f.write(\"hearder line\\n\")"
   ]
  },
  {
   "cell_type": "code",
   "execution_count": 17,
   "metadata": {
    "collapsed": false
   },
   "outputs": [],
   "source": [
    "f.writelines([\"line \" + str(i) + \"\\n\" for i in range(10)])"
   ]
  },
  {
   "cell_type": "code",
   "execution_count": 18,
   "metadata": {
    "collapsed": true
   },
   "outputs": [],
   "source": [
    "f.close()"
   ]
  },
  {
   "cell_type": "code",
   "execution_count": 19,
   "metadata": {
    "collapsed": false
   },
   "outputs": [
    {
     "name": "stdout",
     "output_type": "stream",
     "text": [
      "hearder line\r\n",
      "line 0\r\n",
      "line 1\r\n",
      "line 2\r\n",
      "line 3\r\n",
      "line 4\r\n",
      "line 5\r\n",
      "line 6\r\n",
      "line 7\r\n",
      "line 8\r\n",
      "line 9\r\n"
     ]
    }
   ],
   "source": [
    "%cat foo.txt"
   ]
  },
  {
   "cell_type": "markdown",
   "metadata": {},
   "source": [
    "### 파일 읽기"
   ]
  },
  {
   "cell_type": "code",
   "execution_count": 39,
   "metadata": {
    "collapsed": true
   },
   "outputs": [],
   "source": [
    "f = open(\"foo.txt\", \"r+\")"
   ]
  },
  {
   "cell_type": "code",
   "execution_count": 40,
   "metadata": {
    "collapsed": false
   },
   "outputs": [
    {
     "name": "stdout",
     "output_type": "stream",
     "text": [
      "line 0\n",
      "\n",
      "line 1\n",
      "\n",
      "line 2\n",
      "\n",
      "line 3\n",
      "\n",
      "line 4\n",
      "\n",
      "line 5\n",
      "\n",
      "line 6\n",
      "\n",
      "line 7\n",
      "\n",
      "line 8\n",
      "\n",
      "line 9\n",
      "\n",
      "\n"
     ]
    }
   ],
   "source": [
    "l = f.readline()\n",
    "while l != \"\":\n",
    "    l = f.readline()\n",
    "    print(l)"
   ]
  },
  {
   "cell_type": "code",
   "execution_count": 41,
   "metadata": {
    "collapsed": true
   },
   "outputs": [],
   "source": [
    "f.close()"
   ]
  },
  {
   "cell_type": "code",
   "execution_count": 42,
   "metadata": {
    "collapsed": true
   },
   "outputs": [],
   "source": [
    "f = open(\"foo.txt\", \"r+\")"
   ]
  },
  {
   "cell_type": "code",
   "execution_count": 43,
   "metadata": {
    "collapsed": false
   },
   "outputs": [
    {
     "data": {
      "text/plain": [
       "['hearder line\\n',\n",
       " 'line 0\\n',\n",
       " 'line 1\\n',\n",
       " 'line 2\\n',\n",
       " 'line 3\\n',\n",
       " 'line 4\\n',\n",
       " 'line 5\\n',\n",
       " 'line 6\\n',\n",
       " 'line 7\\n',\n",
       " 'line 8\\n',\n",
       " 'line 9\\n']"
      ]
     },
     "execution_count": 43,
     "metadata": {},
     "output_type": "execute_result"
    }
   ],
   "source": [
    "f.readlines()"
   ]
  },
  {
   "cell_type": "markdown",
   "metadata": {},
   "source": [
    "## 파이썬 객체 저장하고 읽기"
   ]
  },
  {
   "cell_type": "markdown",
   "metadata": {},
   "source": [
    "파이썬을 사용하다가 생성된 파이썬 객체를 그대로 파일로 저장하거나 다시 파일에서 읽어들기기 위해서는 pickle 또는 cPickle 패키지를 사용한다. cPickle 은 pickle 보다 속도가 빠른 버전이다. \n",
    "\n",
    "이 패키지들은 `dump`와 `load` 라는 명령을 제공하는데 각각 파이썬 객체를 저장하고 읽어들이는 역할을 한다. \n",
    "\n",
    "파이썬 객체를 저장하는 경우에는 보통 `.pkl`이라는 확장자를 사용하는 것이 관례이다."
   ]
  },
  {
   "cell_type": "code",
   "execution_count": 45,
   "metadata": {
    "collapsed": false
   },
   "outputs": [],
   "source": [
    "np.random.seed(0)"
   ]
  },
  {
   "cell_type": "code",
   "execution_count": 46,
   "metadata": {
    "collapsed": false
   },
   "outputs": [
    {
     "data": {
      "text/plain": [
       "array([ 0.5488135 ,  0.71518937,  0.60276338,  0.54488318,  0.4236548 ,\n",
       "        0.64589411,  0.43758721,  0.891773  ,  0.96366276,  0.38344152])"
      ]
     },
     "execution_count": 46,
     "metadata": {},
     "output_type": "execute_result"
    }
   ],
   "source": [
    "x = np.random.rand(10)\n",
    "x"
   ]
  },
  {
   "cell_type": "code",
   "execution_count": 47,
   "metadata": {
    "collapsed": false
   },
   "outputs": [
    {
     "data": {
      "text/plain": [
       "array([ 0.79172504,  0.52889492,  0.56804456,  0.92559664,  0.07103606,\n",
       "        0.0871293 ,  0.0202184 ,  0.83261985,  0.77815675,  0.87001215])"
      ]
     },
     "execution_count": 47,
     "metadata": {},
     "output_type": "execute_result"
    }
   ],
   "source": [
    "y = np.random.rand(10)\n",
    "y"
   ]
  },
  {
   "cell_type": "code",
   "execution_count": 56,
   "metadata": {
    "collapsed": false
   },
   "outputs": [],
   "source": [
    "%rm -f x.pkl, y.pkl"
   ]
  },
  {
   "cell_type": "code",
   "execution_count": 57,
   "metadata": {
    "collapsed": true
   },
   "outputs": [],
   "source": [
    "from cPickle import dump, load"
   ]
  },
  {
   "cell_type": "code",
   "execution_count": 58,
   "metadata": {
    "collapsed": false
   },
   "outputs": [],
   "source": [
    "f = open(\"x.pkl\", \"w\")\n",
    "dump(x, f)\n",
    "f.close()"
   ]
  },
  {
   "cell_type": "code",
   "execution_count": 59,
   "metadata": {
    "collapsed": true
   },
   "outputs": [],
   "source": [
    "f = open(\"y.pkl\", \"w\")\n",
    "dump(y, f)\n",
    "f.close()"
   ]
  },
  {
   "cell_type": "code",
   "execution_count": 61,
   "metadata": {
    "collapsed": false
   },
   "outputs": [
    {
     "name": "stdout",
     "output_type": "stream",
     "text": [
      "x.pkl  y.pkl\r\n"
     ]
    }
   ],
   "source": [
    "%ls *.pkl"
   ]
  },
  {
   "cell_type": "code",
   "execution_count": 62,
   "metadata": {
    "collapsed": true
   },
   "outputs": [],
   "source": [
    "del x, y"
   ]
  },
  {
   "cell_type": "code",
   "execution_count": 64,
   "metadata": {
    "collapsed": false
   },
   "outputs": [],
   "source": [
    "f = open(\"x.pkl\", \"r\")\n",
    "x = load(f)\n",
    "f.close()"
   ]
  },
  {
   "cell_type": "code",
   "execution_count": 65,
   "metadata": {
    "collapsed": true
   },
   "outputs": [],
   "source": [
    "f = open(\"y.pkl\", \"r\")\n",
    "y = load(f)\n",
    "f.close()"
   ]
  },
  {
   "cell_type": "code",
   "execution_count": 66,
   "metadata": {
    "collapsed": false
   },
   "outputs": [
    {
     "data": {
      "text/plain": [
       "array([ 0.5488135 ,  0.71518937,  0.60276338,  0.54488318,  0.4236548 ,\n",
       "        0.64589411,  0.43758721,  0.891773  ,  0.96366276,  0.38344152])"
      ]
     },
     "execution_count": 66,
     "metadata": {},
     "output_type": "execute_result"
    }
   ],
   "source": [
    "x"
   ]
  },
  {
   "cell_type": "code",
   "execution_count": 67,
   "metadata": {
    "collapsed": false
   },
   "outputs": [
    {
     "data": {
      "text/plain": [
       "array([ 0.79172504,  0.52889492,  0.56804456,  0.92559664,  0.07103606,\n",
       "        0.0871293 ,  0.0202184 ,  0.83261985,  0.77815675,  0.87001215])"
      ]
     },
     "execution_count": 67,
     "metadata": {},
     "output_type": "execute_result"
    }
   ],
   "source": [
    "y"
   ]
  }
 ],
 "metadata": {
  "kernelspec": {
   "display_name": "Python [Root]",
   "language": "python",
   "name": "Python [Root]"
  },
  "language_info": {
   "codemirror_mode": {
    "name": "ipython",
    "version": 2
   },
   "file_extension": ".py",
   "mimetype": "text/x-python",
   "name": "python",
   "nbconvert_exporter": "python",
   "pygments_lexer": "ipython2",
   "version": "2.7.11"
  }
 },
 "nbformat": 4,
 "nbformat_minor": 0
}