{
 "cells": [
  {
   "cell_type": "markdown",
   "metadata": {},
   "source": [
    "# Python을 활용한 웹 정보 수집"
   ]
  },
  {
   "cell_type": "markdown",
   "metadata": {},
   "source": [
    "## urllib 패키지\n",
    "\n",
    "* `urlencode` : URL 인수 문자열 생성\n",
    "* `urlopen` : 웹서버 연결\n",
    "* `urlretrieve` : 웹서버 연결 및 HTML 문서 저장"
   ]
  },
  {
   "cell_type": "code",
   "execution_count": 40,
   "metadata": {
    "collapsed": false,
    "scrolled": false
   },
   "outputs": [],
   "source": [
    "import urllib"
   ]
  },
  {
   "cell_type": "code",
   "execution_count": 45,
   "metadata": {
    "collapsed": false
   },
   "outputs": [
    {
     "data": {
      "text/plain": [
       "'a=4&c=2016&b=20&e=30&d=6&f=2016&s=%5EKS11'"
      ]
     },
     "execution_count": 45,
     "metadata": {},
     "output_type": "execute_result"
    }
   ],
   "source": [
    "params = urllib.urlencode({\"a\": 4, \"b\": 20, \"c\": 2016, \"d\": 6, \"e\": 30, \"f\": 2016, \"s\": \"^KS11\"})\n",
    "params"
   ]
  },
  {
   "cell_type": "code",
   "execution_count": 70,
   "metadata": {
    "collapsed": false
   },
   "outputs": [
    {
     "name": "stdout",
     "output_type": "stream",
     "text": [
      "Date,Open,High,Low,Close,Volume,Adj Close\n",
      "2016-07-06,1980.109985,1982.800049,1944.329956,1953.119995,457400,1953.119995\n",
      "2016-07-05,1995.689941,1996.77002,1985.939941,1989.849976,405500,1989.849976\n",
      "2016-07-04,1989.439941,1997.369995,1985.109985,1995.300049,468600,1995.300049\n",
      "2016-07-01,1977.359985,1993.97998,1975.890015,1987.319946,448100,1987.319946\n",
      "2016-06-30,1971.540039,1972.810059,1959.280029,1970.349976,349900,1970.349976\n",
      "2016-06-29,1946.310059,1966.209961,1941.900024,1956.359985,451200,1956.359985\n",
      "2016-06-28,1907.709961,1937.98999,1907.48999,1936.219971,373500,1936.219971\n",
      "2016-06-27,1901.849976,1926.869995,1900.829956,1926.849976,394300,1926.849976\n",
      "2016-06-24,2001.550049,2001.550049,1892.75,1925.23999,750500,1925.23999\n",
      "2016-06-23,1989.420044,1990.709961,1980.140015,1986.709961,455400,1986.709961\n",
      "2016-06-22,1981.780029,1994.76001,1979.369995,1992.579956,407400,1992.579956\n",
      "2016-06-21,1977.800049,1983.869995,1971.98999,1982.699951,557400,1982.699951\n",
      "2016-06-20,1974.430054,1984.069946,1969.560059,1981.119995,391300,1981.119995\n",
      "2016-06-17,1966.22998,1970.540039,1949.599976,1953.400024,485300,1953.400024\n",
      "2016-06-16,1971.530029,1974.01001,1944.800049,1951.98999,438800,1951.98999\n",
      "2016-06-15,1972.00,1975.869995,1960.969971,1968.829956,376800,1968.829956\n",
      "2016-06-14,1976.800049,1982.319946,1965.339966,1972.030029,439900,1972.030029\n",
      "2016-06-13,2001.030029,2001.790039,1976.689941,1979.060059,443000,1979.060059\n",
      "2016-06-10,2022.77002,2022.77002,2014.150024,2017.630005,404300,2017.630005\n",
      "2016-06-09,2028.02002,2035.27002,2012.140015,2024.170044,599700,2024.170044\n",
      "2016-06-08,2013.719971,2027.089966,2008.589966,2027.079956,497900,2027.079956\n",
      "2016-06-07,1993.079956,2011.670044,1992.77002,2011.630005,481300,2011.630005\n",
      "2016-06-03,1991.579956,1991.579956,1979.660034,1985.839966,540900,1985.839966\n",
      "2016-06-02,1983.859985,1988.00,1978.819946,1985.109985,474200,1985.109985\n",
      "2016-06-01,1976.869995,1986.76001,1975.819946,1982.719971,502300,1982.719971\n",
      "2016-05-31,1962.469971,1984.180054,1958.160034,1983.400024,657000,1983.400024\n",
      "2016-05-30,1969.719971,1970.540039,1955.48999,1967.130005,550500,1967.130005\n",
      "2016-05-27,1962.329956,1971.27002,1959.75,1969.170044,523500,1969.170044\n",
      "2016-05-26,1965.810059,1967.449951,1955.969971,1957.060059,558300,1957.060059\n",
      "2016-05-25,1953.630005,1964.910034,1951.170044,1960.51001,656900,1960.51001\n",
      "2016-05-24,1951.180054,1951.390015,1937.670044,1937.680054,517100,1937.680054\n",
      "2016-05-23,1954.26001,1956.77002,1940.439941,1955.25,399500,1955.25\n",
      "2016-05-20,1943.839966,1951.50,1940.359985,1947.670044,388100,1947.670044\n",
      "\n"
     ]
    }
   ],
   "source": [
    "url = 'http://ichart.finance.yahoo.com/table.csv?g=d&ignore=.csv&%s' % params\n",
    "data = urllib.urlopen(url).read()\n",
    "print(data)"
   ]
  },
  {
   "cell_type": "code",
   "execution_count": 58,
   "metadata": {
    "collapsed": false
   },
   "outputs": [
    {
     "name": "stdout",
     "output_type": "stream",
     "text": [
      "/home/dockeruser\n",
      "\u001b[0m\u001b[01;34manaconda2\u001b[0m/  \u001b[01;34mdata\u001b[0m/  kospi.csv  \u001b[01;34mnotebooks\u001b[0m/  \u001b[01;34mscikit_learn_data\u001b[0m/\n"
     ]
    }
   ],
   "source": [
    "%cd /home/dockeruser\n",
    "urllib.urlretrieve(url, \"/home/dockeruser/kospi.csv\")\n",
    "%ls"
   ]
  },
  {
   "cell_type": "code",
   "execution_count": 59,
   "metadata": {
    "collapsed": false
   },
   "outputs": [
    {
     "data": {
      "text/plain": [
       "['Date,Open,High,Low,Close,Volume,Adj Close\\n',\n",
       " '2016-07-06,1980.109985,1982.800049,1944.329956,1953.119995,457400,1953.119995\\n',\n",
       " '2016-07-05,1995.689941,1996.77002,1985.939941,1989.849976,405500,1989.849976\\n',\n",
       " '2016-07-04,1989.439941,1997.369995,1985.109985,1995.300049,468600,1995.300049\\n',\n",
       " '2016-07-01,1977.359985,1993.97998,1975.890015,1987.319946,448100,1987.319946\\n']"
      ]
     },
     "execution_count": 59,
     "metadata": {},
     "output_type": "execute_result"
    }
   ],
   "source": [
    "csv = open(\"/home/dockeruser/kospi.csv\")\n",
    "csv.readlines()[:5]"
   ]
  },
  {
   "cell_type": "markdown",
   "metadata": {},
   "source": [
    "## requests 패키지\n",
    "\n",
    "* http://docs.python-requests.org/en/master/\n",
    "* HTTP protocols (get, post, put, delete, head, options)\n"
   ]
  },
  {
   "cell_type": "markdown",
   "metadata": {},
   "source": [
    "https://www.google.com/finance/historical?q=KRX%3AKOSPI200"
   ]
  },
  {
   "cell_type": "code",
   "execution_count": 242,
   "metadata": {
    "collapsed": false,
    "scrolled": false
   },
   "outputs": [
    {
     "name": "stdout",
     "output_type": "stream",
     "text": [
      "Lrg-RaWvg\" class=invfr tabindex=\"-1\"></iframe><div id=gbar><nobr><a class=gb1 href=\"https://www.google.co.kr/webhp?tab=ew\">Search</a> <a class=gb1 href=\"http://www.google.co.kr/imghp?hl=en&tab=ei\">Images</a> <a class=gb1 href=\"https://maps.google.co.kr/maps?hl=en&tab=el\">Maps</a> <a class=gb1 href=\"https://play.google.com/?hl=en&tab=e8\">Play</a> <a class=gb1 href=\"https://www.youtube.com/?tab=e1\">YouTube</a> <a class=gb1 href=\"https://mail.google.com/mail/?tab=em\">Gmail</a> <a class=gb1 href=\"https://drive.google.com/?tab=eo\">Drive</a> <a class=gb1 href=\"https://www.google.com/calendar?tab=ec\">Calendar</a> <a class=gb1 style=\"text-decoration:none\" href=\"https://www.google.co.kr/intl/en/options/\"><u>More</u> &raquo;</a></nobr></div><div id=guser width=100%><nobr><span id=gbn class=gbi></span><span id=gbf class=gbf></span><span id=gbe></span><a  href=\"http://www.google.com/support/finance?hl=en\" class=gb4>Help</a> | <a target=_top id=gb_70 href=\"https://accounts.google.com/ServiceLogin?s\n"
     ]
    }
   ],
   "source": [
    "import requests\n",
    "url = \"https://www.google.com/finance/historical?q=KRX%3AKOSPI200\"\n",
    "req = requests.get(url)\n",
    "print(req.text[3000:4000])"
   ]
  },
  {
   "cell_type": "markdown",
   "metadata": {},
   "source": [
    "## beautifulsoup 패키지\n",
    "\n",
    "* https://www.crummy.com/software/BeautifulSoup/bs4/doc/\n",
    "* HTML 문서 파싱 및 태그 검색"
   ]
  },
  {
   "cell_type": "code",
   "execution_count": 300,
   "metadata": {
    "collapsed": false,
    "scrolled": false
   },
   "outputs": [],
   "source": [
    "from bs4 import BeautifulSoup\n",
    "soup = BeautifulSoup(req.text, 'lxml')"
   ]
  },
  {
   "cell_type": "code",
   "execution_count": 305,
   "metadata": {
    "collapsed": false
   },
   "outputs": [],
   "source": [
    "import dateutil\n",
    "\n",
    "list_records = []\n",
    "table = soup.find(\"table\", class_=\"historical_price\")\n",
    "for i, r in enumerate(table.find_all('tr')):\n",
    "    for j, c in enumerate(r.find_all('td')):\n",
    "        if j == 0:\n",
    "            record = {\"date\": dateutil.parser.parse(c.text.strip())}\n",
    "        elif j == 1:\n",
    "            record.update({\"open\": float(c.text.strip())})\n",
    "        elif j == 2:\n",
    "            record.update({\"high\": float(c.text.strip())})\n",
    "        elif j == 3:\n",
    "            record.update({\"low\": float(c.text.strip())})\n",
    "        elif j == 4:\n",
    "            record.update({\"close\": float(c.text.strip())})\n",
    "        elif j == 5:\n",
    "            record.update({\"volume\": int(c.text.strip().replace(',',''))})\n",
    "    list_records.append(record)"
   ]
  },
  {
   "cell_type": "code",
   "execution_count": 306,
   "metadata": {
    "collapsed": false,
    "scrolled": false
   },
   "outputs": [
    {
     "data": {
      "text/plain": [
       "[{'close': 240.91,\n",
       "  'date': datetime.datetime(2016, 5, 25, 0, 0),\n",
       "  'high': 241.45,\n",
       "  'low': 239.28,\n",
       "  'open': 239.68,\n",
       "  'volume': 91189000},\n",
       " {'close': 241.86,\n",
       "  'date': datetime.datetime(2016, 7, 6, 0, 0),\n",
       "  'high': 245.74,\n",
       "  'low': 240.73,\n",
       "  'open': 245.37,\n",
       "  'volume': 71672000},\n",
       " {'close': 246.91,\n",
       "  'date': datetime.datetime(2016, 7, 5, 0, 0),\n",
       "  'high': 247.84,\n",
       "  'low': 246.51,\n",
       "  'open': 247.67,\n",
       "  'volume': 54810000},\n",
       " {'close': 247.62,\n",
       "  'date': datetime.datetime(2016, 7, 4, 0, 0),\n",
       "  'high': 247.94,\n",
       "  'low': 246.16,\n",
       "  'open': 246.66,\n",
       "  'volume': 63633000},\n",
       " {'close': 246.52,\n",
       "  'date': datetime.datetime(2016, 7, 1, 0, 0),\n",
       "  'high': 247.57,\n",
       "  'low': 244.78,\n",
       "  'open': 244.96,\n",
       "  'volume': 63045000}]"
      ]
     },
     "execution_count": 306,
     "metadata": {},
     "output_type": "execute_result"
    }
   ],
   "source": [
    "list_records[:5]"
   ]
  },
  {
   "cell_type": "code",
   "execution_count": 307,
   "metadata": {
    "collapsed": false
   },
   "outputs": [
    {
     "data": {
      "text/html": [
       "<div>\n",
       "<table border=\"1\" class=\"dataframe\">\n",
       "  <thead>\n",
       "    <tr style=\"text-align: right;\">\n",
       "      <th></th>\n",
       "      <th>date</th>\n",
       "      <th>open</th>\n",
       "      <th>high</th>\n",
       "      <th>low</th>\n",
       "      <th>close</th>\n",
       "      <th>volume</th>\n",
       "    </tr>\n",
       "  </thead>\n",
       "  <tbody>\n",
       "    <tr>\n",
       "      <th>26</th>\n",
       "      <td>2016-05-31</td>\n",
       "      <td>241.03</td>\n",
       "      <td>243.84</td>\n",
       "      <td>240.36</td>\n",
       "      <td>243.63</td>\n",
       "      <td>117966000</td>\n",
       "    </tr>\n",
       "    <tr>\n",
       "      <th>27</th>\n",
       "      <td>2016-05-30</td>\n",
       "      <td>241.94</td>\n",
       "      <td>242.07</td>\n",
       "      <td>240.41</td>\n",
       "      <td>241.73</td>\n",
       "      <td>67446000</td>\n",
       "    </tr>\n",
       "    <tr>\n",
       "      <th>28</th>\n",
       "      <td>2016-05-27</td>\n",
       "      <td>241.25</td>\n",
       "      <td>242.41</td>\n",
       "      <td>240.74</td>\n",
       "      <td>241.85</td>\n",
       "      <td>92225000</td>\n",
       "    </tr>\n",
       "    <tr>\n",
       "      <th>29</th>\n",
       "      <td>2016-05-26</td>\n",
       "      <td>241.56</td>\n",
       "      <td>242.05</td>\n",
       "      <td>240.45</td>\n",
       "      <td>240.58</td>\n",
       "      <td>130282000</td>\n",
       "    </tr>\n",
       "    <tr>\n",
       "      <th>30</th>\n",
       "      <td>2016-05-25</td>\n",
       "      <td>239.68</td>\n",
       "      <td>241.45</td>\n",
       "      <td>239.28</td>\n",
       "      <td>240.91</td>\n",
       "      <td>91189000</td>\n",
       "    </tr>\n",
       "  </tbody>\n",
       "</table>\n",
       "</div>"
      ],
      "text/plain": [
       "         date    open    high     low   close     volume\n",
       "26 2016-05-31  241.03  243.84  240.36  243.63  117966000\n",
       "27 2016-05-30  241.94  242.07  240.41  241.73   67446000\n",
       "28 2016-05-27  241.25  242.41  240.74  241.85   92225000\n",
       "29 2016-05-26  241.56  242.05  240.45  240.58  130282000\n",
       "30 2016-05-25  239.68  241.45  239.28  240.91   91189000"
      ]
     },
     "execution_count": 307,
     "metadata": {},
     "output_type": "execute_result"
    }
   ],
   "source": [
    "df = pd.DataFrame(list_records,\n",
    "                  columns=[\"date\", \"open\", \"high\", \"low\", \"close\", \"volume\"])\n",
    "df.tail()"
   ]
  },
  {
   "cell_type": "markdown",
   "metadata": {},
   "source": [
    "## lxml 패키지\n",
    "\n",
    "* http://lxml.de/index.html\n",
    "* xpath 사용 가능\n",
    " * https://en.wikipedia.org/wiki/XPath"
   ]
  },
  {
   "cell_type": "code",
   "execution_count": 308,
   "metadata": {
    "collapsed": false
   },
   "outputs": [],
   "source": [
    "import lxml.html \n",
    "tree = lxml.html.fromstring(req.text)"
   ]
  },
  {
   "cell_type": "code",
   "execution_count": 309,
   "metadata": {
    "collapsed": false
   },
   "outputs": [],
   "source": [
    "import dateutil\n",
    "dates = [dateutil.parser.parse(x.text.strip()) for x in tree.xpath('//td[@class=\"lm\"]')]\n",
    "volumes = np.array([int(x.text.strip().replace(',','')) for x in tree.xpath('//td[@class=\"rgt rm\"]')])\n",
    "prices = np.reshape([float(x.text.strip()) for x in tree.xpath('//td[@class=\"rgt\"]')], (-1, 4))\n",
    "price_o = prices[:,0]\n",
    "price_h = prices[:,1]\n",
    "price_l = prices[:,2]\n",
    "price_c = prices[:,3]"
   ]
  },
  {
   "cell_type": "code",
   "execution_count": 310,
   "metadata": {
    "collapsed": false
   },
   "outputs": [
    {
     "data": {
      "text/html": [
       "<div>\n",
       "<table border=\"1\" class=\"dataframe\">\n",
       "  <thead>\n",
       "    <tr style=\"text-align: right;\">\n",
       "      <th></th>\n",
       "      <th>date</th>\n",
       "      <th>open</th>\n",
       "      <th>high</th>\n",
       "      <th>low</th>\n",
       "      <th>close</th>\n",
       "      <th>volume</th>\n",
       "    </tr>\n",
       "  </thead>\n",
       "  <tbody>\n",
       "    <tr>\n",
       "      <th>25</th>\n",
       "      <td>2016-05-31</td>\n",
       "      <td>241.03</td>\n",
       "      <td>243.84</td>\n",
       "      <td>240.36</td>\n",
       "      <td>243.63</td>\n",
       "      <td>117966000</td>\n",
       "    </tr>\n",
       "    <tr>\n",
       "      <th>26</th>\n",
       "      <td>2016-05-30</td>\n",
       "      <td>241.94</td>\n",
       "      <td>242.07</td>\n",
       "      <td>240.41</td>\n",
       "      <td>241.73</td>\n",
       "      <td>67446000</td>\n",
       "    </tr>\n",
       "    <tr>\n",
       "      <th>27</th>\n",
       "      <td>2016-05-27</td>\n",
       "      <td>241.25</td>\n",
       "      <td>242.41</td>\n",
       "      <td>240.74</td>\n",
       "      <td>241.85</td>\n",
       "      <td>92225000</td>\n",
       "    </tr>\n",
       "    <tr>\n",
       "      <th>28</th>\n",
       "      <td>2016-05-26</td>\n",
       "      <td>241.56</td>\n",
       "      <td>242.05</td>\n",
       "      <td>240.45</td>\n",
       "      <td>240.58</td>\n",
       "      <td>130282000</td>\n",
       "    </tr>\n",
       "    <tr>\n",
       "      <th>29</th>\n",
       "      <td>2016-05-25</td>\n",
       "      <td>239.68</td>\n",
       "      <td>241.45</td>\n",
       "      <td>239.28</td>\n",
       "      <td>240.91</td>\n",
       "      <td>91189000</td>\n",
       "    </tr>\n",
       "  </tbody>\n",
       "</table>\n",
       "</div>"
      ],
      "text/plain": [
       "         date    open    high     low   close     volume\n",
       "25 2016-05-31  241.03  243.84  240.36  243.63  117966000\n",
       "26 2016-05-30  241.94  242.07  240.41  241.73   67446000\n",
       "27 2016-05-27  241.25  242.41  240.74  241.85   92225000\n",
       "28 2016-05-26  241.56  242.05  240.45  240.58  130282000\n",
       "29 2016-05-25  239.68  241.45  239.28  240.91   91189000"
      ]
     },
     "execution_count": 310,
     "metadata": {},
     "output_type": "execute_result"
    }
   ],
   "source": [
    "df = pd.DataFrame({\"date\": dates, \"open\": price_o, \"high\": price_h, \"low\": price_l, \"close\": price_c, \"volume\": volumes},\n",
    "                  columns=[\"date\", \"open\", \"high\", \"low\", \"close\", \"volume\"])\n",
    "df.tail()"
   ]
  }
 ],
 "metadata": {
  "kernelspec": {
   "display_name": "Python 2",
   "language": "python",
   "name": "python2"
  },
  "language_info": {
   "codemirror_mode": {
    "name": "ipython",
    "version": 2
   },
   "file_extension": ".py",
   "mimetype": "text/x-python",
   "name": "python",
   "nbconvert_exporter": "python",
   "pygments_lexer": "ipython2",
   "version": "2.7.11"
  }
 },
 "nbformat": 4,
 "nbformat_minor": 0
}