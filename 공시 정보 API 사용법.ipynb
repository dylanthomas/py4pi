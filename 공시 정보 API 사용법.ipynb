{
 "cells": [
  {
   "cell_type": "markdown",
   "metadata": {},
   "source": [
    "# 공시 정보 API 사용법"
   ]
  },
  {
   "cell_type": "markdown",
   "metadata": {},
   "source": [
    "금융감독원의 https://dart.fss.or.kr/ 웹사이트에서는 국내 상장기업의 모든 공시 자료를 제공한다. 이 자료 목록은 RSS 를 통해서도 받을 수 있으나 여기에서 설명하듯이 API도 제공하고 있다."
   ]
  },
  {
   "cell_type": "markdown",
   "metadata": {},
   "source": [
    "## API 인증키 발급"
   ]
  },
  {
   "cell_type": "markdown",
   "metadata": {},
   "source": [
    "DARTS API를 사용하려면 사용자 등록 후 API 인증키를 발급받아야 한다. 사용자 등록 및 인증키 발급은 다음 웹사이트를 참조한다.\n",
    "\n",
    "* 사용자 등록: https://dart.fss.or.kr/dsag002/insertForm.do\n",
    "* API 사용:  https://dart.fss.or.kr/dsap001/intro.do\n",
    "\n",
    "인증키는 알파벳과 숫자로 이루어진 길이가 40인 문자열이다. 이 값은 API 호출시 `auth` 라는 http 파라미터로 제공해야 한다.\n"
   ]
  },
  {
   "cell_type": "code",
   "execution_count": 6,
   "metadata": {
    "collapsed": false
   },
   "outputs": [
    {
     "data": {
      "text/plain": [
       "(str, 40)"
      ]
     },
     "execution_count": 6,
     "metadata": {},
     "output_type": "execute_result"
    }
   ],
   "source": [
    "apikey = \"xxxxxxxxxxxxxxxxxxxxxxxxxxxxxxxxxxxxxxxx\" # 실제 키값을 입력\n",
    "type(apikey), len(apikey)"
   ]
  },
  {
   "cell_type": "markdown",
   "metadata": {},
   "source": [
    "## API 기능"
   ]
  },
  {
   "cell_type": "markdown",
   "metadata": {},
   "source": [
    "DARTS API는 현재 다음과 같은 두 가지 기능을 제공한다.\n",
    "\n",
    "* 기업 개황 제공\n",
    "* 공시 정보 검색\n",
    "\n",
    "현재는 공시 보고서 자체는 API로 제공하지 않으므로 공시 정보 검색 결과에서 제공하는 rcp_no 번호를 사용하여 개별적으로 크롤링하여야 한다."
   ]
  },
  {
   "cell_type": "markdown",
   "metadata": {},
   "source": [
    "## 기업 개황 "
   ]
  },
  {
   "cell_type": "markdown",
   "metadata": {},
   "source": [
    "기업 개황 API 주소는 다음과 같다.\n",
    "\n",
    "* http://dart.fss.or.kr/api/company.json?auth=xxx&crp_cd=xxx\n",
    "\n",
    "여기에서 auth 값은 개인의 인증키 문자열이고 crp_cd 는 회사의 CRP 코드이다. CRP 코드는 DARTS 웹사이트의 \"기업개황\"에서 화사를 검색하면 결과 페이지에 회사별 공시 RSS 주소를 얻을 수 있는 링크를 제공한다.\n",
    "\n",
    "상장사의 경우에는 6자리의 단축 ISIN 코드를 사용해도 된다.\n",
    "\n",
    "\n",
    "https://dart.fss.or.kr/dsae001/main.do\n",
    "\n",
    "<img src=\"https://datascienceschool.net/upfiles/cc5cd84fdbe04bf6b82f37ee6155907c.png\" style=\"width:100%\">\n",
    "\n",
    "예를 들어 삼성전자의 CRP 코드는 `00126380` 이다."
   ]
  },
  {
   "cell_type": "code",
   "execution_count": 27,
   "metadata": {
    "collapsed": true
   },
   "outputs": [],
   "source": [
    "url_company = \"http://dart.fss.or.kr/api/company.json?auth={0}&crp_cd={1}\"\n",
    "crpcode = \"00126380\"\n",
    "url = url_company.format(apikey, crpcode)"
   ]
  },
  {
   "cell_type": "markdown",
   "metadata": {},
   "source": [
    "응답결과는 JSON 파일 형식으로 각 필드의 의미는 다음과 같다.\n",
    "\n",
    "* `result`\n",
    " * 설명\n",
    "* `err_code`\n",
    " * \t에러코드(오류 메시지 참조)\n",
    "* `err_msg`\n",
    " * \t에러메시지(오류 메시지 참조)\n",
    "* `crp_nm`\n",
    " * \t정식명칭\n",
    "* `crp_nm_e`\n",
    " * \t영문명칭\n",
    "* `crp_nm_i`\n",
    " * \t종목명(상장사) 또는 약식명칭(기타법인)\n",
    "* `stock_cd`\n",
    " * \t상장회사인 경우 주식의 종목코드\n",
    "* `ceo_nm`\n",
    " * \t대표자명\n",
    "* `crp_cls`\n",
    " * \t법인구분 : Y(유가), K(코스닥), N(코넥스), E(기타)\n",
    "* `crp_no`\n",
    " * \t법인등록번호\n",
    "* `bsn_no`\n",
    " * \t사업자등록번호\n",
    "* `adr`\n",
    " * \t주소\n",
    "* `hm_url`\n",
    " * \t홈페이지\n",
    "* `ir_url`\n",
    " * \tIR홈페이지\n",
    "* `phn_no`\n",
    " * \t전화번호\n",
    "* `fax_no`\n",
    " * \t팩스번호\n",
    "* `ind_cd`\n",
    " * \t업종코드\n",
    "* `est_dt`\n",
    " * \t설립일(YYYYMMDD)\n",
    "* `acc_mt`\n",
    " * \t결산월(MM)"
   ]
  },
  {
   "cell_type": "code",
   "execution_count": 28,
   "metadata": {
    "collapsed": false
   },
   "outputs": [
    {
     "name": "stdout",
     "output_type": "stream",
     "text": [
      "{acc_mt: 12,\n",
      " adr: 경기도 수원시 영통구  삼성로 129 (매탄동),\n",
      " bsn_no: 1248100998,\n",
      " ceo_nm: 권오현, 윤부근, 신종균,\n",
      " crp_cls: Y,\n",
      " crp_nm: 삼성전자(주),\n",
      " crp_nm_e: SAMSUNG ELECTRONICS CO,.LTD,\n",
      " crp_nm_i: 삼성전자,\n",
      " crp_no: 1301110006246,\n",
      " err_code: 000,\n",
      " err_msg: 정상,\n",
      " est_dt: 19690113,\n",
      " fax_no: 031-200-7538,\n",
      " hm_url: www.sec.co.kr,\n",
      " ind_cd: 264,\n",
      " ir_url: ,\n",
      " phn_no: 031-200-1114,\n",
      " stock_cd: 005930}\n"
     ]
    }
   ],
   "source": [
    "import requests\n",
    "import json\n",
    "from konlpy.utils import pprint\n",
    "\n",
    "response = requests.get(url)\n",
    "data = json.loads(response.content)\n",
    "pprint(data)"
   ]
  },
  {
   "cell_type": "code",
   "execution_count": 29,
   "metadata": {
    "collapsed": false
   },
   "outputs": [
    {
     "data": {
      "text/plain": [
       "u'1301110006246'"
      ]
     },
     "execution_count": 29,
     "metadata": {},
     "output_type": "execute_result"
    }
   ],
   "source": [
    "data[\"crp_no\"]"
   ]
  },
  {
   "cell_type": "markdown",
   "metadata": {},
   "source": [
    "## 공시 정보 검색"
   ]
  },
  {
   "cell_type": "markdown",
   "metadata": {},
   "source": [
    "공시 정보 검색 API 주소는 다음과 같다.\n",
    "\n",
    "* http://dart.fss.or.kr/api/search.json?auth=xxx\n",
    "\n",
    "여기에서 auth 값은 개인의 인증키 문자열이다. 이 뒤에 다음과 같은 파라미터를 추가하여야 한다."
   ]
  },
  {
   "cell_type": "markdown",
   "metadata": {},
   "source": [
    "* `crp_cd`\t\n",
    " * 공시대상회사의 종목코드(상장사:숫자 6자리) 또는 고유번호(기타법인:숫자 8자리)\n",
    "* `end_dt`\t\n",
    " * 검색종료 접수일자(YYYYMMDD) : 없으면 당일\n",
    "* `start_dt`\t\n",
    " * 검색시작 접수일자(YYYYMMDD) : 없으면 end_dt crp_cd가 없는 경우 검색기간은 3개월로 제한\n",
    "* `fin_rpt`\t\n",
    " * 최종보고서만 검색여부(Y or N) 기본값 : N (정정이 있는 경우 최종정정만 검색)\n",
    "* `dsp_tp`\t\n",
    " * 정기공시(A), 주요사항보고(B), 발행공시(C), 지분공시(D), 기타공시(E), 외부감사관련(F), 펀드공시(G), 자산유동화(H), 거래소공시(I), 공정위공시(J) \n",
    "* `bsn_tp`\t\n",
    " * 정기공시(5), 주요사항보고(3), 발행공시(11), 지분공시(4), 기타공시(9), 외부감사관련(3), 펀드공시(3), 자산유동화(6), 거래소공시(6), 공정위공시(5) (상세 유형 참조)\n",
    "* `sort`\t\n",
    " * 접수일자(date), 회사명(crp), 보고서명(rpt) 기본값 : date\n",
    "* `series`\t\n",
    " * 오름차순(asc), 내림차순(desc) 기본값 : desc\n",
    "* `page_no`\t\n",
    " * 페이지 번호(1~n) 기본값 : 1\n",
    "* `page_set`\t\n",
    " * 페이지당 건수(1~100) 기본값 : 10, 최대값 : 100\n",
    "* `callback`\t\n",
    " * 콜백함수명(JSONP용)"
   ]
  },
  {
   "cell_type": "code",
   "execution_count": 34,
   "metadata": {
    "collapsed": true
   },
   "outputs": [],
   "source": [
    "url_search = \"http://dart.fss.or.kr/api/search.json?auth={0}&crp_cd={1}&start_dt=20000101\"\n",
    "crpcode = \"00126380\"\n",
    "url = url_search.format(apikey, crpcode)"
   ]
  },
  {
   "cell_type": "code",
   "execution_count": 35,
   "metadata": {
    "collapsed": false
   },
   "outputs": [
    {
     "name": "stdout",
     "output_type": "stream",
     "text": [
      "{err_code: 000,\n",
      " err_msg: 정상,\n",
      " list: [{crp_cd: 005930,\n",
      "         crp_cls: Y,\n",
      "         crp_nm: 삼성전자,\n",
      "         flr_nm: 삼성전자,\n",
      "         rcp_dt: 20160707,\n",
      "         rcp_no: 20160707800438,\n",
      "         rmk: 유,\n",
      "         rpt_nm: 기업설명회(IR)개최(안내공시)},\n",
      "        {crp_cd: 005930,\n",
      "         crp_cls: Y,\n",
      "         crp_nm: 삼성전자,\n",
      "         flr_nm: 지완구,\n",
      "         rcp_dt: 20160707,\n",
      "         rcp_no: 20160707000087,\n",
      "         rmk: ,\n",
      "         rpt_nm: 임원ㆍ주요주주특정증권등소유상황보고서},\n",
      "        {crp_cd: 005930,\n",
      "         crp_cls: Y,\n",
      "         crp_nm: 삼성전자,\n",
      "         flr_nm: 삼성전자,\n",
      "         rcp_dt: 20160707,\n",
      "         rcp_no: 20160707800065,\n",
      "         rmk: 유,\n",
      "         rpt_nm: 연결재무제표기준영업(잠정)실적(공정공시)},\n",
      "        {crp_cd: 005930,\n",
      "         crp_cls: Y,\n",
      "         crp_nm: 삼성전자,\n",
      "         flr_nm: 삼성전자,\n",
      "         rcp_dt: 20160630,\n",
      "         rcp_no: 20160630800581,\n",
      "         rmk: 유,\n",
      "         rpt_nm: 조회공시요구(풍문또는보도)에대한답변(부인)},\n",
      "        {crp_cd: 005930,\n",
      "         crp_cls: Y,\n",
      "         crp_nm: 삼성전자,\n",
      "         flr_nm: 유가증권시장본부,\n",
      "         rcp_dt: 20160630,\n",
      "         rcp_no: 20160630800362,\n",
      "         rmk: 유,\n",
      "         rpt_nm: 조회공시요구(풍문또는보도)},\n",
      "        {crp_cd: 005930,\n",
      "         crp_cls: Y,\n",
      "         crp_nm: 삼성전자,\n",
      "         flr_nm: 이효건,\n",
      "         rcp_dt: 20160629,\n",
      "         rcp_no: 20160629000323,\n",
      "         rmk: ,\n",
      "         rpt_nm: 임원ㆍ주요주주특정증권등소유상황보고서},\n",
      "        {crp_cd: 005930,\n",
      "         crp_cls: Y,\n",
      "         crp_nm: 삼성전자,\n",
      "         flr_nm: 고홍선,\n",
      "         rcp_dt: 20160615,\n",
      "         rcp_no: 20160615000327,\n",
      "         rmk: ,\n",
      "         rpt_nm: 임원ㆍ주요주주특정증권등소유상황보고서},\n",
      "        {crp_cd: 005930,\n",
      "         crp_cls: Y,\n",
      "         crp_nm: 삼성전자,\n",
      "         flr_nm: 삼성전자,\n",
      "         rcp_dt: 20160615,\n",
      "         rcp_no: 20160615800031,\n",
      "         rmk: 유,\n",
      "         rpt_nm: 풍문또는보도에대한해명},\n",
      "        {crp_cd: 005930,\n",
      "         crp_cls: Y,\n",
      "         crp_nm: 삼성전자,\n",
      "         flr_nm: 삼성전자,\n",
      "         rcp_dt: 20160613,\n",
      "         rcp_no: 20160613800249,\n",
      "         rmk: 유,\n",
      "         rpt_nm: 최대주주등소유주식변동신고서},\n",
      "        {crp_cd: 005930,\n",
      "         crp_cls: Y,\n",
      "         crp_nm: 삼성전자,\n",
      "         flr_nm: 삼성전자,\n",
      "         rcp_dt: 20160613,\n",
      "         rcp_no: 20160613800234,\n",
      "         rmk: 유,\n",
      "         rpt_nm: 기업설명회(IR)개최(안내공시)}],\n",
      " page_no: 1,\n",
      " page_set: 10,\n",
      " total_count: 4679,\n",
      " total_page: 468}\n"
     ]
    }
   ],
   "source": [
    "import requests\n",
    "import json\n",
    "from konlpy.utils import pprint\n",
    "\n",
    "response = requests.get(url)\n",
    "data = json.loads(response.content)\n",
    "pprint(data)"
   ]
  },
  {
   "cell_type": "code",
   "execution_count": 36,
   "metadata": {
    "collapsed": false
   },
   "outputs": [
    {
     "name": "stdout",
     "output_type": "stream",
     "text": [
      "{err_code: 000,\n",
      " err_msg: 정상,\n",
      " list: [{crp_cd: 005930,\n",
      "         crp_cls: Y,\n",
      "         crp_nm: 삼성전자,\n",
      "         flr_nm: 삼성전자,\n",
      "         rcp_dt: 20160609,\n",
      "         rcp_no: 20160609800307,\n",
      "         rmk: 유,\n",
      "         rpt_nm: 중간(분기)배당을위한주주명부폐쇄(기준일)결정},\n",
      "        {crp_cd: 005930,\n",
      "         crp_cls: Y,\n",
      "         crp_nm: 삼성전자,\n",
      "         flr_nm: 조재문,\n",
      "         rcp_dt: 20160609,\n",
      "         rcp_no: 20160609000043,\n",
      "         rmk: ,\n",
      "         rpt_nm: 임원ㆍ주요주주특정증권등소유상황보고서},\n",
      "        {crp_cd: 005930,\n",
      "         crp_cls: Y,\n",
      "         crp_nm: 삼성전자,\n",
      "         flr_nm: 삼성전자,\n",
      "         rcp_dt: 20160603,\n",
      "         rcp_no: 20160603800057,\n",
      "         rmk: 유,\n",
      "         rpt_nm: 조회공시요구(풍문또는보도)에대한답변(부인)},\n",
      "        {crp_cd: 005930,\n",
      "         crp_cls: Y,\n",
      "         crp_nm: 삼성전자,\n",
      "         flr_nm: 유가증권시장본부,\n",
      "         rcp_dt: 20160603,\n",
      "         rcp_no: 20160603800019,\n",
      "         rmk: 유,\n",
      "         rpt_nm: 조회공시요구(풍문또는보도)},\n",
      "        {crp_cd: 005930,\n",
      "         crp_cls: Y,\n",
      "         crp_nm: 삼성전자,\n",
      "         flr_nm: 삼성전자,\n",
      "         rcp_dt: 20160531,\n",
      "         rcp_no: 20160531000171,\n",
      "         rmk: 공,\n",
      "         rpt_nm: 대규모기업집단현황공시[연1회공시및1/4분기용(대표회사)]},\n",
      "        {crp_cd: 005930,\n",
      "         crp_cls: Y,\n",
      "         crp_nm: 삼성전자,\n",
      "         flr_nm: 삼성전자,\n",
      "         rcp_dt: 20160520,\n",
      "         rcp_no: 20160520000380,\n",
      "         rmk: 공,\n",
      "         rpt_nm: 특수관계인으로부터자산양수},\n",
      "        {crp_cd: 005930,\n",
      "         crp_cls: Y,\n",
      "         crp_nm: 삼성전자,\n",
      "         flr_nm: 삼성전자,\n",
      "         rcp_dt: 20160520,\n",
      "         rcp_no: 20160520000372,\n",
      "         rmk: 공,\n",
      "         rpt_nm: 특수관계인으로부터부동산임대},\n",
      "        {crp_cd: 005930,\n",
      "         crp_cls: Y,\n",
      "         crp_nm: 삼성전자,\n",
      "         flr_nm: 삼성전자,\n",
      "         rcp_dt: 20160516,\n",
      "         rcp_no: 20160516003174,\n",
      "         rmk: ,\n",
      "         rpt_nm: 분기보고서 (2016.03)},\n",
      "        {crp_cd: 005930,\n",
      "         crp_cls: Y,\n",
      "         crp_nm: 삼성전자,\n",
      "         flr_nm: 조재문,\n",
      "         rcp_dt: 20160516,\n",
      "         rcp_no: 20160516000824,\n",
      "         rmk: ,\n",
      "         rpt_nm: 임원ㆍ주요주주특정증권등소유상황보고서},\n",
      "        {crp_cd: 005930,\n",
      "         crp_cls: Y,\n",
      "         crp_nm: 삼성전자,\n",
      "         flr_nm: 삼성전자,\n",
      "         rcp_dt: 20160513,\n",
      "         rcp_no: 20160513003993,\n",
      "         rmk: 공,\n",
      "         rpt_nm: 동일인등출자계열회사와의상품ㆍ용역거래변경}],\n",
      " page_no: 2,\n",
      " page_set: 10,\n",
      " total_count: 4679,\n",
      " total_page: 468}\n"
     ]
    }
   ],
   "source": [
    "response = requests.get(url + \"&page_no=2\")\n",
    "data = json.loads(response.content)\n",
    "pprint(data)"
   ]
  },
  {
   "cell_type": "markdown",
   "metadata": {},
   "source": [
    "응답 결과 필드의 의미는 다음과 같다.\n",
    "\n",
    "* `err_code` \n",
    " *\t\t에러코드(오류 메시지 참조)\n",
    "* `err_msg` \n",
    " *\t\t에러메시지(오류 메시지 참조)\n",
    "* `page_no` \n",
    " *\t\t페이지 번호\n",
    "* `page_set` \n",
    " *\t\t페이지당 건수\n",
    "* `total_count` \n",
    " *\t\t총 건수\n",
    "* `total_page` \n",
    " *\t\t총 페이지 수\n",
    "* `crp_cls` \n",
    " *\t법인구분 : Y(유가), K(코스닥), N(코넥스), E(기타)\n",
    "* `crp_nm` \n",
    " *\t공시대상회사의 종목명(상장사) 또는 법인명(기타법인)\n",
    "* `crp_cd` \n",
    " *\t공시대상회사의 종목코드(6자리) 또는 고유번호(8자리)\n",
    "* `rpt_nm` \n",
    " *\t공시구분+보고서명+기타정보\n",
    "    * [기재정정] : 본 보고서명으로 이미 제출된 보고서의 기재내용이 변경되어 제출된 것임\n",
    "    * [첨부정정] : 본 보고서명으로 이미 제출된 보고서의 첨부내용이 변경되어 제출된 것임\n",
    "    * [첨부추가] : 본 보고서명으로 이미 제출된 보고서의 첨부서류가 추가되어 제출된 것임\n",
    "    * [변경등록] : 본 보고서명으로 이미 제출된 보고서의 유동화계획이 변경되어 제출된 것임\n",
    "    * [연장결정] : 본 보고서명으로 이미 제출된 보고서의 신탁계약이 연장되어 제출된 것임\n",
    "    * [발행조건확정] : 본 보고서명으로 이미 제출된 보고서의 유가증권 발행조건이 확정되어 제출된 것임\n",
    "    * [정정명령부과] : 본 보고서에 대하여 금융감독원이 정정명령을 부과한 것임\n",
    "    * [정정제출요구] : 본 보고서에 대하여 금융감독원이 정정제출요구을 부과한 것임\n",
    "* `rcp_no` \n",
    " *\t접수번호(공시뷰어 연결에 이용)\n",
    "    * PC용 : http://dart.fss.or.kr/dsaf001/main.do?rcpNo=접수번호\n",
    "    * 모바일용 : http://m.dart.fss.or.kr/html_mdart/MD1007.html?rcpNo=접수번호\n",
    "* `flr_nm` \n",
    " *\t공시 제출인명\n",
    "* `rcp_dt` \n",
    " *\t공시 접수일자(YYYYMMDD)\n",
    "* `rmk` \n",
    " *\t조합된 문자로 각각은 아래와 같은 의미가 있음\n",
    "    * 유 : 본 공시사항은 한국거래소 유가증권시장본부 소관임\n",
    "    * 코 : 본 공시사항은 한국거래소 코스닥시장본부 소관임\n",
    "    * 채 : 본 문서는 한국거래소 채권상장법인 공시사항임\n",
    "    * 넥 : 본 문서는 한국거래소 코넥스시장 소관임\n",
    "    * 공 : 본 공시사항은 공정거래위원회 소관임\n",
    "    * 연 : 본 보고서는 연결부분을 포함한 것임\n",
    "    * 정 : 본 보고서 제출 후 정정신고가 있으니 관련 보고서를 참조하시기 바람\n",
    "    * 철 : 본 보고서는 철회(간주)되었으니 관련 철회신고서(철회간주안내)를 참고하시기 바람"
   ]
  },
  {
   "cell_type": "markdown",
   "metadata": {},
   "source": [
    "검색된 정보 항목에서 가장 중요한 것은 접수 번호인 `rcp_no` 이다. 이 값을 알고 있으면 다음 주소를 사용하여 실제 공시 정보를 찾아볼 수 있다.\n",
    "\n",
    "* http://dart.fss.or.kr/dsaf001/main.do?rcpNo=xxx\n",
    "\n",
    "예를 들어 삼성전자 분기보고서 접수번호는 20160516003174 이므로 다음 웹사이트를 연결하면 된다.\n",
    "\n",
    "* http://dart.fss.or.kr/dsaf001/main.do?rcpNo=20160516003174"
   ]
  },
  {
   "cell_type": "markdown",
   "metadata": {},
   "source": [
    "## 공시 정보 파싱"
   ]
  },
  {
   "cell_type": "markdown",
   "metadata": {},
   "source": [
    "공시 정보는 위에서 구한 주소로 접근할 수 있지만 핵심 제무제표를 얻기 위해서는 dcm 번호를 알아야 한다. 현재 dcm 번호는 다음과 같이 찾아낼 수 있다."
   ]
  },
  {
   "cell_type": "code",
   "execution_count": 71,
   "metadata": {
    "collapsed": false
   },
   "outputs": [],
   "source": [
    "import requests\n",
    "import lxml.html\n",
    "import re\n",
    "\n",
    "url = \"http://dart.fss.or.kr/dsaf001/main.do?rcpNo=20160516003174\"\n",
    "req = requests.get(url)\n",
    "tree = lxml.html.fromstring(req.text)\n",
    "onclick = tree.xpath('//*[@id=\"north\"]/div[2]/ul/li[1]/a')[0].attrib['onclick']\n",
    "pattern = re.compile(\"^openPdfDownload\\('\\d+',\\s*'(\\d+)'\\)\")\n",
    "dcm = pattern.search(onclick).group(1)"
   ]
  },
  {
   "cell_type": "code",
   "execution_count": 72,
   "metadata": {
    "collapsed": false
   },
   "outputs": [
    {
     "data": {
      "text/plain": [
       "'5146351'"
      ]
     },
     "execution_count": 72,
     "metadata": {},
     "output_type": "execute_result"
    }
   ],
   "source": [
    "dcm"
   ]
  },
  {
   "cell_type": "markdown",
   "metadata": {},
   "source": [
    "## 제무 제표 다운로드"
   ]
  },
  {
   "cell_type": "markdown",
   "metadata": {},
   "source": [
    "정기보고서 등의 제무제표가 포함된 공시에서 dcm 번호를 알고 있다면 다음과 같이 XBRL 정보 혹은 Excel 파일을 다운로드 받을 수 있다."
   ]
  },
  {
   "cell_type": "markdown",
   "metadata": {},
   "source": [
    "* http://dart.fss.or.kr/pdf/download/ifrs.do?lang=ko&rcp_no=20160516003174&dcm_no=5146351\n",
    "* http://dart.fss.or.kr/pdf/download/excel.do?lang=ko&rcp_no=20160516003174&dcm_no=5146351"
   ]
  },
  {
   "cell_type": "code",
   "execution_count": 73,
   "metadata": {
    "collapsed": false
   },
   "outputs": [
    {
     "name": "stdout",
     "output_type": "stream",
     "text": [
      "/home/dockeruser/data/darts\n"
     ]
    }
   ],
   "source": [
    "%cd /home/dockeruser/data/darts"
   ]
  },
  {
   "cell_type": "code",
   "execution_count": 74,
   "metadata": {
    "collapsed": false
   },
   "outputs": [
    {
     "name": "stdout",
     "output_type": "stream",
     "text": [
      "20160516003174_ko.xls\r\n"
     ]
    }
   ],
   "source": [
    "%ls"
   ]
  },
  {
   "cell_type": "code",
   "execution_count": 97,
   "metadata": {
    "collapsed": false
   },
   "outputs": [
    {
     "data": {
      "text/html": [
       "<div>\n",
       "<table border=\"1\" class=\"dataframe\">\n",
       "  <thead>\n",
       "    <tr>\n",
       "      <th></th>\n",
       "      <th colspan=\"2\" halign=\"left\">제 48 기 1분기</th>\n",
       "      <th colspan=\"2\" halign=\"left\">제 47 기 1분기</th>\n",
       "      <th>제 47 기</th>\n",
       "      <th>제 46 기</th>\n",
       "    </tr>\n",
       "    <tr>\n",
       "      <th></th>\n",
       "      <th>3개월</th>\n",
       "      <th>누적</th>\n",
       "      <th>3개월</th>\n",
       "      <th>누적</th>\n",
       "      <th>누적</th>\n",
       "      <th>누적</th>\n",
       "    </tr>\n",
       "  </thead>\n",
       "  <tbody>\n",
       "    <tr>\n",
       "      <th>당기순이익(손실)</th>\n",
       "      <td>5252803</td>\n",
       "      <td>5252803</td>\n",
       "      <td>4625815</td>\n",
       "      <td>4625815</td>\n",
       "      <td>19060144</td>\n",
       "      <td>23394358</td>\n",
       "    </tr>\n",
       "    <tr>\n",
       "      <th>기타포괄손익</th>\n",
       "      <td>-161195</td>\n",
       "      <td>-161195</td>\n",
       "      <td>-819980</td>\n",
       "      <td>-819980</td>\n",
       "      <td>76071</td>\n",
       "      <td>-1993414</td>\n",
       "    </tr>\n",
       "    <tr>\n",
       "      <th>후속적으로 당기손익으로 재분류되지 않는 포괄손익</th>\n",
       "      <td>-22420</td>\n",
       "      <td>-22420</td>\n",
       "      <td>-24548</td>\n",
       "      <td>-24548</td>\n",
       "      <td>288047</td>\n",
       "      <td>-720945</td>\n",
       "    </tr>\n",
       "    <tr>\n",
       "      <th>순확정급여부채 재측정요소</th>\n",
       "      <td>-22783</td>\n",
       "      <td>-22783</td>\n",
       "      <td>-24103</td>\n",
       "      <td>-24103</td>\n",
       "      <td>263978</td>\n",
       "      <td>-710318</td>\n",
       "    </tr>\n",
       "    <tr>\n",
       "      <th>관계기업 및 공동기업의 기타포괄손익에 대한 지분</th>\n",
       "      <td>363</td>\n",
       "      <td>363</td>\n",
       "      <td>-445</td>\n",
       "      <td>-445</td>\n",
       "      <td>24069</td>\n",
       "      <td>-10627</td>\n",
       "    </tr>\n",
       "    <tr>\n",
       "      <th>후속적으로 당기손익으로 재분류되는 포괄손익</th>\n",
       "      <td>-138775</td>\n",
       "      <td>-138775</td>\n",
       "      <td>-795432</td>\n",
       "      <td>-795432</td>\n",
       "      <td>-211976</td>\n",
       "      <td>-1272469</td>\n",
       "    </tr>\n",
       "    <tr>\n",
       "      <th>매도가능금융자산평가손익</th>\n",
       "      <td>74595</td>\n",
       "      <td>74595</td>\n",
       "      <td>264851</td>\n",
       "      <td>264851</td>\n",
       "      <td>-414961</td>\n",
       "      <td>-232105</td>\n",
       "    </tr>\n",
       "    <tr>\n",
       "      <th>관계기업 및 공동기업의 기타포괄손익에 대한 지분</th>\n",
       "      <td>-111942</td>\n",
       "      <td>-111942</td>\n",
       "      <td>-43607</td>\n",
       "      <td>-43607</td>\n",
       "      <td>-65330</td>\n",
       "      <td>-118305</td>\n",
       "    </tr>\n",
       "    <tr>\n",
       "      <th>해외사업장환산외환차이</th>\n",
       "      <td>-101428</td>\n",
       "      <td>-101428</td>\n",
       "      <td>-1016676</td>\n",
       "      <td>-1016676</td>\n",
       "      <td>268315</td>\n",
       "      <td>-922059</td>\n",
       "    </tr>\n",
       "    <tr>\n",
       "      <th>총포괄손익</th>\n",
       "      <td>5091608</td>\n",
       "      <td>5091608</td>\n",
       "      <td>3805835</td>\n",
       "      <td>3805835</td>\n",
       "      <td>19136215</td>\n",
       "      <td>21400944</td>\n",
       "    </tr>\n",
       "    <tr>\n",
       "      <th>포괄손익의 귀속</th>\n",
       "      <td></td>\n",
       "      <td></td>\n",
       "      <td></td>\n",
       "      <td></td>\n",
       "      <td></td>\n",
       "      <td></td>\n",
       "    </tr>\n",
       "    <tr>\n",
       "      <th>지배기업 소유주지분</th>\n",
       "      <td>5070139</td>\n",
       "      <td>5070139</td>\n",
       "      <td>3685109</td>\n",
       "      <td>3685109</td>\n",
       "      <td>18804189</td>\n",
       "      <td>20990732</td>\n",
       "    </tr>\n",
       "    <tr>\n",
       "      <th>비지배지분</th>\n",
       "      <td>21469</td>\n",
       "      <td>21469</td>\n",
       "      <td>120726</td>\n",
       "      <td>120726</td>\n",
       "      <td>332026</td>\n",
       "      <td>410212</td>\n",
       "    </tr>\n",
       "  </tbody>\n",
       "</table>\n",
       "</div>"
      ],
      "text/plain": [
       "                                   제 48 기 1분기          제 47 기 1분기            \\\n",
       "                                          3개월       누적        3개월        누적   \n",
       "당기순이익(손실)                             5252803  5252803    4625815   4625815   \n",
       "기타포괄손익                                -161195  -161195    -819980   -819980   \n",
       "    후속적으로 당기손익으로 재분류되지 않는 포괄손익         -22420   -22420     -24548    -24548   \n",
       "        순확정급여부채 재측정요소                  -22783   -22783     -24103    -24103   \n",
       "        관계기업 및 공동기업의 기타포괄손익에 대한 지분        363      363       -445      -445   \n",
       "    후속적으로 당기손익으로 재분류되는 포괄손익           -138775  -138775    -795432   -795432   \n",
       "        매도가능금융자산평가손익                    74595    74595     264851    264851   \n",
       "        관계기업 및 공동기업의 기타포괄손익에 대한 지분    -111942  -111942     -43607    -43607   \n",
       "        해외사업장환산외환차이                   -101428  -101428   -1016676  -1016676   \n",
       "총포괄손익                                 5091608  5091608    3805835   3805835   \n",
       "포괄손익의 귀속                                                                      \n",
       "    지배기업 소유주지분                        5070139  5070139    3685109   3685109   \n",
       "    비지배지분                               21469    21469     120726    120726   \n",
       "\n",
       "                                      제 47 기    제 46 기  \n",
       "                                          누적        누적  \n",
       "당기순이익(손실)                           19060144  23394358  \n",
       "기타포괄손익                                 76071  -1993414  \n",
       "    후속적으로 당기손익으로 재분류되지 않는 포괄손익        288047   -720945  \n",
       "        순확정급여부채 재측정요소                 263978   -710318  \n",
       "        관계기업 및 공동기업의 기타포괄손익에 대한 지분     24069    -10627  \n",
       "    후속적으로 당기손익으로 재분류되는 포괄손익          -211976  -1272469  \n",
       "        매도가능금융자산평가손익                 -414961   -232105  \n",
       "        관계기업 및 공동기업의 기타포괄손익에 대한 지분    -65330   -118305  \n",
       "        해외사업장환산외환차이                   268315   -922059  \n",
       "총포괄손익                               19136215  21400944  \n",
       "포괄손익의 귀속                                                \n",
       "    지배기업 소유주지분                      18804189  20990732  \n",
       "    비지배지분                             332026    410212  "
      ]
     },
     "execution_count": 97,
     "metadata": {},
     "output_type": "execute_result"
    }
   ],
   "source": [
    "pd.read_excel('/home/dockeruser/data/darts/20160516003174_ko.xls',\n",
    "             sheetname=u'\\uc5f0\\uacb0 \\ud3ec\\uad04\\uc190\\uc775\\uacc4\\uc0b0\\uc11c',\n",
    "             skiprows=7, index_col=0, header=[0, 1]).fillna(\"\")"
   ]
  }
 ],
 "metadata": {
  "kernelspec": {
   "display_name": "Python [Root]",
   "language": "python",
   "name": "Python [Root]"
  },
  "language_info": {
   "codemirror_mode": {
    "name": "ipython",
    "version": 2
   },
   "file_extension": ".py",
   "mimetype": "text/x-python",
   "name": "python",
   "nbconvert_exporter": "python",
   "pygments_lexer": "ipython2",
   "version": "2.7.11"
  }
 },
 "nbformat": 4,
 "nbformat_minor": 0
}