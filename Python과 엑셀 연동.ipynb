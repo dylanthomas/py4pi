{
 "cells": [
  {
   "cell_type": "markdown",
   "metadata": {},
   "source": [
    "# Python과 엑셀 연동"
   ]
  },
  {
   "cell_type": "code",
   "execution_count": 2,
   "metadata": {
    "collapsed": true
   },
   "outputs": [],
   "source": [
    "%mkdir -p ./data\n",
    "%rm -rf ./data/*.xls\n",
    "%rm -rf ./data/*.xlsx"
   ]
  },
  {
   "cell_type": "markdown",
   "metadata": {},
   "source": [
    "## Excel 연동을 위한 Python 패키지\n",
    " \n",
    " * xlwt\n",
    " * xlrd\n",
    " * xlsxwriter\n",
    " * OpenPyxl"
   ]
  },
  {
   "cell_type": "markdown",
   "metadata": {},
   "source": [
    "## xlwt/xlrd 패키지\n",
    "\n",
    "* Excel 쓰기 및 읽기\n",
    "* COM(Component Object Model)을 사용하지 않고 직접 Excel Format의 Binary Data를 생성\n",
    "* Excel이 설치되어 있기 않아도 사용 가능\n",
    "* Linux에서도 사용 가능\n",
    "* Excel 97 / 2000 / XP / 2003 포맷(.xls)만 지원"
   ]
  },
  {
   "cell_type": "code",
   "execution_count": 3,
   "metadata": {
    "collapsed": true
   },
   "outputs": [],
   "source": [
    "import xlwt, xlrd"
   ]
  },
  {
   "cell_type": "markdown",
   "metadata": {},
   "source": [
    "### .xls Workbook 생성"
   ]
  },
  {
   "cell_type": "code",
   "execution_count": 4,
   "metadata": {
    "collapsed": false
   },
   "outputs": [
    {
     "data": {
      "text/plain": [
       "<xlwt.Workbook.Workbook at 0x7f39469cbcd0>"
      ]
     },
     "execution_count": 4,
     "metadata": {},
     "output_type": "execute_result"
    }
   ],
   "source": [
    "wb = xlwt.Workbook()\n",
    "wb"
   ]
  },
  {
   "cell_type": "markdown",
   "metadata": {},
   "source": [
    "### Worksheet 생성"
   ]
  },
  {
   "cell_type": "code",
   "execution_count": 5,
   "metadata": {
    "collapsed": true
   },
   "outputs": [],
   "source": [
    "ws_1 = wb.add_sheet('first_sheet', cell_overwrite_ok=True)"
   ]
  },
  {
   "cell_type": "code",
   "execution_count": 6,
   "metadata": {
    "collapsed": false
   },
   "outputs": [
    {
     "data": {
      "text/plain": [
       "<xlwt.Worksheet.Worksheet at 0x7f39469db110>"
      ]
     },
     "execution_count": 6,
     "metadata": {},
     "output_type": "execute_result"
    }
   ],
   "source": [
    "ws_1 = wb.get_sheet(0)\n",
    "ws_1"
   ]
  },
  {
   "cell_type": "code",
   "execution_count": 7,
   "metadata": {
    "collapsed": false
   },
   "outputs": [
    {
     "data": {
      "text/plain": [
       "<xlwt.Worksheet.Worksheet at 0x7f39469db1d0>"
      ]
     },
     "execution_count": 7,
     "metadata": {},
     "output_type": "execute_result"
    }
   ],
   "source": [
    "ws_2 = wb.add_sheet('second_sheet')\n",
    "ws_2"
   ]
  },
  {
   "cell_type": "code",
   "execution_count": 8,
   "metadata": {
    "collapsed": false
   },
   "outputs": [
    {
     "data": {
      "text/plain": [
       "array([[ 1,  2,  3,  4,  5,  6,  7,  8],\n",
       "       [ 9, 10, 11, 12, 13, 14, 15, 16],\n",
       "       [17, 18, 19, 20, 21, 22, 23, 24],\n",
       "       [25, 26, 27, 28, 29, 30, 31, 32],\n",
       "       [33, 34, 35, 36, 37, 38, 39, 40],\n",
       "       [41, 42, 43, 44, 45, 46, 47, 48],\n",
       "       [49, 50, 51, 52, 53, 54, 55, 56],\n",
       "       [57, 58, 59, 60, 61, 62, 63, 64]])"
      ]
     },
     "execution_count": 8,
     "metadata": {},
     "output_type": "execute_result"
    }
   ],
   "source": [
    "data = np.arange(1, 65).reshape((8, 8))\n",
    "data"
   ]
  },
  {
   "cell_type": "markdown",
   "metadata": {},
   "source": [
    "### Cell 쓰기"
   ]
  },
  {
   "cell_type": "code",
   "execution_count": 9,
   "metadata": {
    "collapsed": true
   },
   "outputs": [],
   "source": [
    "ws_1.write(0, 0, 100)"
   ]
  },
  {
   "cell_type": "code",
   "execution_count": 10,
   "metadata": {
    "collapsed": true
   },
   "outputs": [],
   "source": [
    "for c in range(data.shape[0]):\n",
    "    for r in range(data.shape[1]):\n",
    "        ws_1.write(r, c, data[c, r])\n",
    "        ws_2.write(r, c, data[r, c])"
   ]
  },
  {
   "cell_type": "markdown",
   "metadata": {},
   "source": [
    "### .xls 파일 쓰기"
   ]
  },
  {
   "cell_type": "code",
   "execution_count": 27,
   "metadata": {
    "collapsed": true
   },
   "outputs": [],
   "source": [
    "wb.save('./data/workbook.xls')"
   ]
  },
  {
   "cell_type": "code",
   "execution_count": 28,
   "metadata": {
    "collapsed": false
   },
   "outputs": [
    {
     "name": "stdout",
     "output_type": "stream",
     "text": [
      "total 16\r\n",
      "drwxr-xr-x 2 dockeruser dockeruser 4096 Jul  8 04:45 \u001b[0m\u001b[01;34m.\u001b[0m/\r\n",
      "drwxr-xr-x 4 dockeruser dockeruser 4096 Jul  8 04:48 \u001b[01;34m..\u001b[0m/\r\n",
      "-rw-r--r-- 1 dockeruser dockeruser 5632 Jul  8 04:48 workbook.xls\r\n"
     ]
    }
   ],
   "source": [
    "%ls -Fcal data"
   ]
  },
  {
   "cell_type": "markdown",
   "metadata": {},
   "source": [
    "### .xls 파일 읽기"
   ]
  },
  {
   "cell_type": "code",
   "execution_count": 14,
   "metadata": {
    "collapsed": false
   },
   "outputs": [
    {
     "data": {
      "text/plain": [
       "<xlrd.book.Book at 0x7f39469db550>"
      ]
     },
     "execution_count": 14,
     "metadata": {},
     "output_type": "execute_result"
    }
   ],
   "source": [
    "book = xlrd.open_workbook('data/workbook.xls')\n",
    "book"
   ]
  },
  {
   "cell_type": "code",
   "execution_count": 15,
   "metadata": {
    "collapsed": false
   },
   "outputs": [
    {
     "data": {
      "text/plain": [
       "[u'first_sheet', u'second_sheet']"
      ]
     },
     "execution_count": 15,
     "metadata": {},
     "output_type": "execute_result"
    }
   ],
   "source": [
    "book.sheet_names()"
   ]
  },
  {
   "cell_type": "code",
   "execution_count": 16,
   "metadata": {
    "collapsed": false
   },
   "outputs": [
    {
     "data": {
      "text/plain": [
       "(<xlrd.sheet.Sheet at 0x7f3946989dd0>, <xlrd.sheet.Sheet at 0x7f3946989f10>)"
      ]
     },
     "execution_count": 16,
     "metadata": {},
     "output_type": "execute_result"
    }
   ],
   "source": [
    "sheet_1 = book.sheet_by_name('first_sheet')\n",
    "sheet_2 = book.sheet_by_index(1)\n",
    "sheet_1, sheet_2"
   ]
  },
  {
   "cell_type": "code",
   "execution_count": 17,
   "metadata": {
    "collapsed": false
   },
   "outputs": [
    {
     "data": {
      "text/plain": [
       "u'second_sheet'"
      ]
     },
     "execution_count": 17,
     "metadata": {},
     "output_type": "execute_result"
    }
   ],
   "source": [
    "sheet_2.name"
   ]
  },
  {
   "cell_type": "code",
   "execution_count": 18,
   "metadata": {
    "collapsed": false
   },
   "outputs": [
    {
     "data": {
      "text/plain": [
       "(8, 8)"
      ]
     },
     "execution_count": 18,
     "metadata": {},
     "output_type": "execute_result"
    }
   ],
   "source": [
    "sheet_1.ncols, sheet_1.nrows"
   ]
  },
  {
   "cell_type": "markdown",
   "metadata": {},
   "source": [
    "### Sheet Method\n",
    "\n",
    "* `cell()`\n",
    "* `row()`\n",
    "* `col()`\n",
    "* `row_values()`\n",
    "* `col_values()`\n"
   ]
  },
  {
   "cell_type": "code",
   "execution_count": 19,
   "metadata": {
    "collapsed": false
   },
   "outputs": [
    {
     "data": {
      "text/plain": [
       "1.0"
      ]
     },
     "execution_count": 19,
     "metadata": {},
     "output_type": "execute_result"
    }
   ],
   "source": [
    "cl = sheet_1.cell(0, 0)\n",
    "cl.value"
   ]
  },
  {
   "cell_type": "code",
   "execution_count": 20,
   "metadata": {
    "collapsed": false
   },
   "outputs": [
    {
     "data": {
      "text/plain": [
       "2"
      ]
     },
     "execution_count": 20,
     "metadata": {},
     "output_type": "execute_result"
    }
   ],
   "source": [
    "cl.ctype"
   ]
  },
  {
   "cell_type": "markdown",
   "metadata": {},
   "source": [
    "### cell type\n",
    "\n",
    "| 유형             |숫자  |                  파이썬 타입                          |\n",
    "|------------------|------|-------------------------------------------------------|\n",
    "|XL_CELL_EMPTY     | 0    | Empty string 빈 문자열                                |\n",
    "|XL_CELL_TEXT      | 1    | A Unicode  string 유니코드 문자열                     |\n",
    "|XL_CELL_NUMBER    | 2    | float 부동소수점                                      |\n",
    "|XL_CELL_DATE      | 3    | float 부동소수점                                      |\n",
    "|XL_CELL_BOOLEAN   | 4    | int (1=TRUE, 0=FALSE) 정수                            |\n",
    "|XL_CELL_ERROR     | 5    | int 내부 엑셀 코드를 표시하는 정수                    |\n",
    "|XL_CELL_BLANK     | 6    | 빈 문자열 (formatting_info=True 인 경우)              |"
   ]
  },
  {
   "cell_type": "code",
   "execution_count": 21,
   "metadata": {
    "collapsed": false
   },
   "outputs": [
    {
     "data": {
      "text/plain": [
       "[number:25.0,\n",
       " number:26.0,\n",
       " number:27.0,\n",
       " number:28.0,\n",
       " number:29.0,\n",
       " number:30.0,\n",
       " number:31.0,\n",
       " number:32.0]"
      ]
     },
     "execution_count": 21,
     "metadata": {},
     "output_type": "execute_result"
    }
   ],
   "source": [
    "sheet_2.row(3)"
   ]
  },
  {
   "cell_type": "code",
   "execution_count": 22,
   "metadata": {
    "collapsed": false
   },
   "outputs": [
    {
     "data": {
      "text/plain": [
       "[number:4.0,\n",
       " number:12.0,\n",
       " number:20.0,\n",
       " number:28.0,\n",
       " number:36.0,\n",
       " number:44.0,\n",
       " number:52.0,\n",
       " number:60.0]"
      ]
     },
     "execution_count": 22,
     "metadata": {},
     "output_type": "execute_result"
    }
   ],
   "source": [
    "sheet_2.col(3)"
   ]
  },
  {
   "cell_type": "code",
   "execution_count": 23,
   "metadata": {
    "collapsed": false
   },
   "outputs": [
    {
     "data": {
      "text/plain": [
       "[28.0, 29.0, 30.0, 31.0]"
      ]
     },
     "execution_count": 23,
     "metadata": {},
     "output_type": "execute_result"
    }
   ],
   "source": [
    "sheet_1.col_values(3, start_rowx=3, end_rowx=7)"
   ]
  },
  {
   "cell_type": "code",
   "execution_count": 25,
   "metadata": {
    "collapsed": false
   },
   "outputs": [
    {
     "name": "stdout",
     "output_type": "stream",
     "text": [
      " 1, 2, 3, 4, 5, 6, 7, 8,\n",
      " 9,10,11,12,13,14,15,16,\n",
      "17,18,19,20,21,22,23,24,\n",
      "25,26,27,28,29,30,31,32,\n",
      "33,34,35,36,37,38,39,40,\n",
      "41,42,43,44,45,46,47,48,\n",
      "49,50,51,52,53,54,55,56,\n",
      "57,58,59,60,61,62,63,64,\n"
     ]
    }
   ],
   "source": [
    "for c in range(sheet_1.ncols):\n",
    "    for r in range(sheet_1.nrows):\n",
    "        print('%2i' % sheet_1.cell(r, c).value, end=\",\")\n",
    "    print()"
   ]
  },
  {
   "cell_type": "markdown",
   "metadata": {},
   "source": [
    "## xlsxwriter 패키지\n",
    "\n",
    "* http://xlsxwriter.readthedocs.org/\n",
    "* COM(Component Object Model)을 사용하지 않고 직접 Excel Format의 Binary Data를 생성\n",
    "* 최신 .xlsx 포맷도 지원\n",
    "* chart 생성 기능 지원"
   ]
  },
  {
   "cell_type": "code",
   "execution_count": 26,
   "metadata": {
    "collapsed": true
   },
   "outputs": [],
   "source": [
    "import xlsxwriter"
   ]
  },
  {
   "cell_type": "markdown",
   "metadata": {},
   "source": [
    "### .xlsx Workbook 생성"
   ]
  },
  {
   "cell_type": "code",
   "execution_count": 29,
   "metadata": {
    "collapsed": false
   },
   "outputs": [
    {
     "data": {
      "text/plain": [
       "<xlsxwriter.workbook.Workbook at 0x7f39469950d0>"
      ]
     },
     "execution_count": 29,
     "metadata": {},
     "output_type": "execute_result"
    }
   ],
   "source": [
    "wb = xlsxwriter.Workbook('data/workbook.xlsx')\n",
    "wb"
   ]
  },
  {
   "cell_type": "code",
   "execution_count": 30,
   "metadata": {
    "collapsed": false
   },
   "outputs": [
    {
     "data": {
      "text/plain": [
       "(<xlsxwriter.worksheet.Worksheet at 0x7f3946995350>,\n",
       " <xlsxwriter.worksheet.Worksheet at 0x7f3946995450>)"
      ]
     },
     "execution_count": 30,
     "metadata": {},
     "output_type": "execute_result"
    }
   ],
   "source": [
    "ws_1 = wb.add_worksheet('first_sheet')\n",
    "ws_2 = wb.add_worksheet('second_sheet')\n",
    "ws_1, ws_2"
   ]
  },
  {
   "cell_type": "code",
   "execution_count": 31,
   "metadata": {
    "collapsed": true
   },
   "outputs": [],
   "source": [
    "for c in range(data.shape[0]):\n",
    "    for r in range(data.shape[1]):\n",
    "         ws_1.write(r, c, data[c, r])\n",
    "         ws_2.write(r, c, data[r, c])"
   ]
  },
  {
   "cell_type": "code",
   "execution_count": 32,
   "metadata": {
    "collapsed": true
   },
   "outputs": [],
   "source": [
    "wb.close()"
   ]
  },
  {
   "cell_type": "code",
   "execution_count": 33,
   "metadata": {
    "collapsed": false
   },
   "outputs": [
    {
     "name": "stdout",
     "output_type": "stream",
     "text": [
      "total 24\r\n",
      "drwxr-xr-x 2 dockeruser dockeruser 4096 Jul  8 04:49 \u001b[0m\u001b[01;34m.\u001b[0m/\r\n",
      "drwxr-xr-x 4 dockeruser dockeruser 4096 Jul  8 04:49 \u001b[01;34m..\u001b[0m/\r\n",
      "-rw-r--r-- 1 dockeruser dockeruser 5632 Jul  8 04:48 workbook.xls\r\n",
      "-rw-r--r-- 1 dockeruser dockeruser 6050 Jul  8 04:49 workbook.xlsx\r\n"
     ]
    }
   ],
   "source": [
    "%ls -Fcal ./data"
   ]
  },
  {
   "cell_type": "markdown",
   "metadata": {},
   "source": [
    "### 챠트 추가"
   ]
  },
  {
   "cell_type": "code",
   "execution_count": 34,
   "metadata": {
    "collapsed": true
   },
   "outputs": [],
   "source": [
    "wb = xlsxwriter.Workbook('data/chart.xlsx')\n",
    "ws = wb.add_worksheet()\n",
    "\n",
    "# 첫번째 열에는 숫자의 누적합을 쓴다.\n",
    "values = np.random.standard_normal(15).cumsum()\n",
    "ws.write_column('A1', values)\n",
    "\n",
    "# 차트 객체를 새로 생성한다.\n",
    "chart = wb.add_chart({'type': 'line'})\n",
    "\n",
    "# 차트에 계열을 추가한다.\n",
    "chart.add_series({'values': '=Sheet1!$A$1:$A$15',\n",
    "                  'marker': {'type': 'diamond'},})\n",
    "# 계열 마크 설정 (다이아몬드)\n",
    "\n",
    "# 차트 삽입\n",
    "ws.insert_chart('C1', chart)\n",
    "wb.close()"
   ]
  },
  {
   "cell_type": "code",
   "execution_count": 35,
   "metadata": {
    "collapsed": false
   },
   "outputs": [
    {
     "name": "stdout",
     "output_type": "stream",
     "text": [
      "total 32\r\n",
      "drwxr-xr-x 2 dockeruser dockeruser 4096 Jul  8 04:50 \u001b[0m\u001b[01;34m.\u001b[0m/\r\n",
      "drwxr-xr-x 4 dockeruser dockeruser 4096 Jul  8 04:50 \u001b[01;34m..\u001b[0m/\r\n",
      "-rw-r--r-- 1 dockeruser dockeruser 7375 Jul  8 04:50 chart.xlsx\r\n",
      "-rw-r--r-- 1 dockeruser dockeruser 5632 Jul  8 04:48 workbook.xls\r\n",
      "-rw-r--r-- 1 dockeruser dockeruser 6050 Jul  8 04:49 workbook.xlsx\r\n"
     ]
    }
   ],
   "source": [
    "%ls -Fcal data"
   ]
  },
  {
   "cell_type": "markdown",
   "metadata": {},
   "source": [
    "## openpyxl 패키지\n",
    "\n",
    "* https://openpyxl.readthedocs.org\n",
    "* Excel 2010 xlsx/xlsm/xltx/xltm 지원\n",
    "* Office Open XML format 지원"
   ]
  },
  {
   "cell_type": "code",
   "execution_count": 36,
   "metadata": {
    "collapsed": true
   },
   "outputs": [],
   "source": [
    "import openpyxl as oxl"
   ]
  },
  {
   "cell_type": "code",
   "execution_count": 37,
   "metadata": {
    "collapsed": false
   },
   "outputs": [
    {
     "data": {
      "text/plain": [
       "<openpyxl.workbook.workbook.Workbook at 0x7f394560a590>"
      ]
     },
     "execution_count": 37,
     "metadata": {},
     "output_type": "execute_result"
    }
   ],
   "source": [
    "wb = oxl.Workbook()\n",
    "wb"
   ]
  },
  {
   "cell_type": "code",
   "execution_count": 38,
   "metadata": {
    "collapsed": false
   },
   "outputs": [
    {
     "data": {
      "text/plain": [
       "<Worksheet \"oxl_sheet\">"
      ]
     },
     "execution_count": 38,
     "metadata": {},
     "output_type": "execute_result"
    }
   ],
   "source": [
    "ws = wb.create_sheet(index=0, title='oxl_sheet')\n",
    "ws"
   ]
  },
  {
   "cell_type": "code",
   "execution_count": 39,
   "metadata": {
    "collapsed": true
   },
   "outputs": [],
   "source": [
    "for c in range(data.shape[0]):\n",
    "    for r in range(data.shape[1]):\n",
    "        ws.cell(row=r+1, column=c+1).value = data[c, r]\n",
    "        # 셀 객체를 생성하고 값을 할당한다."
   ]
  },
  {
   "cell_type": "code",
   "execution_count": 40,
   "metadata": {
    "collapsed": true
   },
   "outputs": [],
   "source": [
    "wb.save('./data/oxl_book.xlsx')"
   ]
  },
  {
   "cell_type": "code",
   "execution_count": 41,
   "metadata": {
    "collapsed": false
   },
   "outputs": [
    {
     "name": "stdout",
     "output_type": "stream",
     "text": [
      "total 40\r\n",
      "drwxr-xr-x 2 dockeruser dockeruser 4096 Jul  8 04:53 \u001b[0m\u001b[01;34m.\u001b[0m/\r\n",
      "drwxr-xr-x 4 dockeruser dockeruser 4096 Jul  8 04:53 \u001b[01;34m..\u001b[0m/\r\n",
      "-rw-r--r-- 1 dockeruser dockeruser 7375 Jul  8 04:50 chart.xlsx\r\n",
      "-rw-r--r-- 1 dockeruser dockeruser 5782 Jul  8 04:53 oxl_book.xlsx\r\n",
      "-rw-r--r-- 1 dockeruser dockeruser 5632 Jul  8 04:48 workbook.xls\r\n",
      "-rw-r--r-- 1 dockeruser dockeruser 6050 Jul  8 04:49 workbook.xlsx\r\n"
     ]
    }
   ],
   "source": [
    "%ls -Fcal ./data"
   ]
  },
  {
   "cell_type": "code",
   "execution_count": 42,
   "metadata": {
    "collapsed": false
   },
   "outputs": [
    {
     "data": {
      "text/plain": [
       "<openpyxl.workbook.workbook.Workbook at 0x7f394560ae50>"
      ]
     },
     "execution_count": 42,
     "metadata": {},
     "output_type": "execute_result"
    }
   ],
   "source": [
    "wb = oxl.load_workbook('./data/oxl_book.xlsx')\n",
    "wb"
   ]
  },
  {
   "cell_type": "code",
   "execution_count": 44,
   "metadata": {
    "collapsed": false
   },
   "outputs": [
    {
     "data": {
      "text/plain": [
       "<Worksheet \"oxl_sheet\">"
      ]
     },
     "execution_count": 44,
     "metadata": {},
     "output_type": "execute_result"
    }
   ],
   "source": [
    "ws = wb.active\n",
    "ws"
   ]
  },
  {
   "cell_type": "code",
   "execution_count": 45,
   "metadata": {
    "collapsed": false
   },
   "outputs": [
    {
     "data": {
      "text/plain": [
       "('B', 4, 12L)"
      ]
     },
     "execution_count": 45,
     "metadata": {},
     "output_type": "execute_result"
    }
   ],
   "source": [
    "cell = ws['B4']\n",
    "cell.column, cell.row, cell.value"
   ]
  },
  {
   "cell_type": "code",
   "execution_count": 46,
   "metadata": {
    "collapsed": false
   },
   "outputs": [
    {
     "name": "stdout",
     "output_type": "stream",
     "text": [
      "9\n",
      "10\n",
      "11\n",
      "12\n"
     ]
    }
   ],
   "source": [
    "for cell in ws['B1':'B4']:\n",
    "    print(cell[0].value)"
   ]
  },
  {
   "cell_type": "code",
   "execution_count": 48,
   "metadata": {
    "collapsed": false
   },
   "outputs": [
    {
     "name": "stdout",
     "output_type": "stream",
     "text": [
      "9,17,10,18,11,19,12,20,"
     ]
    }
   ],
   "source": [
    "for row in ws.iter_rows('B1:C4'):\n",
    "    for cell in row:\n",
    "        print(cell.value, end=\",\")"
   ]
  },
  {
   "cell_type": "markdown",
   "metadata": {},
   "source": [
    "## pandas를 사용한 Excel 읽고 쓰기\n",
    "\n",
    "* pandas 는 xlwt/xlrd 내장\n",
    "* `read_excel()`\n",
    "* `ExcelWriter`"
   ]
  },
  {
   "cell_type": "code",
   "execution_count": 49,
   "metadata": {
    "collapsed": false
   },
   "outputs": [
    {
     "data": {
      "text/html": [
       "<div>\n",
       "<table border=\"1\" class=\"dataframe\">\n",
       "  <thead>\n",
       "    <tr style=\"text-align: right;\">\n",
       "      <th></th>\n",
       "      <th>0</th>\n",
       "      <th>1</th>\n",
       "      <th>2</th>\n",
       "      <th>3</th>\n",
       "      <th>4</th>\n",
       "      <th>5</th>\n",
       "      <th>6</th>\n",
       "      <th>7</th>\n",
       "    </tr>\n",
       "  </thead>\n",
       "  <tbody>\n",
       "    <tr>\n",
       "      <th>0</th>\n",
       "      <td>1</td>\n",
       "      <td>9</td>\n",
       "      <td>17</td>\n",
       "      <td>25</td>\n",
       "      <td>33</td>\n",
       "      <td>41</td>\n",
       "      <td>49</td>\n",
       "      <td>57</td>\n",
       "    </tr>\n",
       "    <tr>\n",
       "      <th>1</th>\n",
       "      <td>2</td>\n",
       "      <td>10</td>\n",
       "      <td>18</td>\n",
       "      <td>26</td>\n",
       "      <td>34</td>\n",
       "      <td>42</td>\n",
       "      <td>50</td>\n",
       "      <td>58</td>\n",
       "    </tr>\n",
       "    <tr>\n",
       "      <th>2</th>\n",
       "      <td>3</td>\n",
       "      <td>11</td>\n",
       "      <td>19</td>\n",
       "      <td>27</td>\n",
       "      <td>35</td>\n",
       "      <td>43</td>\n",
       "      <td>51</td>\n",
       "      <td>59</td>\n",
       "    </tr>\n",
       "    <tr>\n",
       "      <th>3</th>\n",
       "      <td>4</td>\n",
       "      <td>12</td>\n",
       "      <td>20</td>\n",
       "      <td>28</td>\n",
       "      <td>36</td>\n",
       "      <td>44</td>\n",
       "      <td>52</td>\n",
       "      <td>60</td>\n",
       "    </tr>\n",
       "    <tr>\n",
       "      <th>4</th>\n",
       "      <td>5</td>\n",
       "      <td>13</td>\n",
       "      <td>21</td>\n",
       "      <td>29</td>\n",
       "      <td>37</td>\n",
       "      <td>45</td>\n",
       "      <td>53</td>\n",
       "      <td>61</td>\n",
       "    </tr>\n",
       "    <tr>\n",
       "      <th>5</th>\n",
       "      <td>6</td>\n",
       "      <td>14</td>\n",
       "      <td>22</td>\n",
       "      <td>30</td>\n",
       "      <td>38</td>\n",
       "      <td>46</td>\n",
       "      <td>54</td>\n",
       "      <td>62</td>\n",
       "    </tr>\n",
       "    <tr>\n",
       "      <th>6</th>\n",
       "      <td>7</td>\n",
       "      <td>15</td>\n",
       "      <td>23</td>\n",
       "      <td>31</td>\n",
       "      <td>39</td>\n",
       "      <td>47</td>\n",
       "      <td>55</td>\n",
       "      <td>63</td>\n",
       "    </tr>\n",
       "    <tr>\n",
       "      <th>7</th>\n",
       "      <td>8</td>\n",
       "      <td>16</td>\n",
       "      <td>24</td>\n",
       "      <td>32</td>\n",
       "      <td>40</td>\n",
       "      <td>48</td>\n",
       "      <td>56</td>\n",
       "      <td>64</td>\n",
       "    </tr>\n",
       "  </tbody>\n",
       "</table>\n",
       "</div>"
      ],
      "text/plain": [
       "   0   1   2   3   4   5   6   7\n",
       "0  1   9  17  25  33  41  49  57\n",
       "1  2  10  18  26  34  42  50  58\n",
       "2  3  11  19  27  35  43  51  59\n",
       "3  4  12  20  28  36  44  52  60\n",
       "4  5  13  21  29  37  45  53  61\n",
       "5  6  14  22  30  38  46  54  62\n",
       "6  7  15  23  31  39  47  55  63\n",
       "7  8  16  24  32  40  48  56  64"
      ]
     },
     "execution_count": 49,
     "metadata": {},
     "output_type": "execute_result"
    }
   ],
   "source": [
    "df_1 = pd.read_excel('data/workbook.xlsx', 'first_sheet', header=None)\n",
    "df_1"
   ]
  },
  {
   "cell_type": "code",
   "execution_count": 50,
   "metadata": {
    "collapsed": false
   },
   "outputs": [
    {
     "data": {
      "text/html": [
       "<div>\n",
       "<table border=\"1\" class=\"dataframe\">\n",
       "  <thead>\n",
       "    <tr style=\"text-align: right;\">\n",
       "      <th></th>\n",
       "      <th>0</th>\n",
       "      <th>1</th>\n",
       "      <th>2</th>\n",
       "      <th>3</th>\n",
       "      <th>4</th>\n",
       "      <th>5</th>\n",
       "      <th>6</th>\n",
       "      <th>7</th>\n",
       "    </tr>\n",
       "  </thead>\n",
       "  <tbody>\n",
       "    <tr>\n",
       "      <th>0</th>\n",
       "      <td>1</td>\n",
       "      <td>2</td>\n",
       "      <td>3</td>\n",
       "      <td>4</td>\n",
       "      <td>5</td>\n",
       "      <td>6</td>\n",
       "      <td>7</td>\n",
       "      <td>8</td>\n",
       "    </tr>\n",
       "    <tr>\n",
       "      <th>1</th>\n",
       "      <td>9</td>\n",
       "      <td>10</td>\n",
       "      <td>11</td>\n",
       "      <td>12</td>\n",
       "      <td>13</td>\n",
       "      <td>14</td>\n",
       "      <td>15</td>\n",
       "      <td>16</td>\n",
       "    </tr>\n",
       "    <tr>\n",
       "      <th>2</th>\n",
       "      <td>17</td>\n",
       "      <td>18</td>\n",
       "      <td>19</td>\n",
       "      <td>20</td>\n",
       "      <td>21</td>\n",
       "      <td>22</td>\n",
       "      <td>23</td>\n",
       "      <td>24</td>\n",
       "    </tr>\n",
       "    <tr>\n",
       "      <th>3</th>\n",
       "      <td>25</td>\n",
       "      <td>26</td>\n",
       "      <td>27</td>\n",
       "      <td>28</td>\n",
       "      <td>29</td>\n",
       "      <td>30</td>\n",
       "      <td>31</td>\n",
       "      <td>32</td>\n",
       "    </tr>\n",
       "    <tr>\n",
       "      <th>4</th>\n",
       "      <td>33</td>\n",
       "      <td>34</td>\n",
       "      <td>35</td>\n",
       "      <td>36</td>\n",
       "      <td>37</td>\n",
       "      <td>38</td>\n",
       "      <td>39</td>\n",
       "      <td>40</td>\n",
       "    </tr>\n",
       "    <tr>\n",
       "      <th>5</th>\n",
       "      <td>41</td>\n",
       "      <td>42</td>\n",
       "      <td>43</td>\n",
       "      <td>44</td>\n",
       "      <td>45</td>\n",
       "      <td>46</td>\n",
       "      <td>47</td>\n",
       "      <td>48</td>\n",
       "    </tr>\n",
       "    <tr>\n",
       "      <th>6</th>\n",
       "      <td>49</td>\n",
       "      <td>50</td>\n",
       "      <td>51</td>\n",
       "      <td>52</td>\n",
       "      <td>53</td>\n",
       "      <td>54</td>\n",
       "      <td>55</td>\n",
       "      <td>56</td>\n",
       "    </tr>\n",
       "    <tr>\n",
       "      <th>7</th>\n",
       "      <td>57</td>\n",
       "      <td>58</td>\n",
       "      <td>59</td>\n",
       "      <td>60</td>\n",
       "      <td>61</td>\n",
       "      <td>62</td>\n",
       "      <td>63</td>\n",
       "      <td>64</td>\n",
       "    </tr>\n",
       "  </tbody>\n",
       "</table>\n",
       "</div>"
      ],
      "text/plain": [
       "    0   1   2   3   4   5   6   7\n",
       "0   1   2   3   4   5   6   7   8\n",
       "1   9  10  11  12  13  14  15  16\n",
       "2  17  18  19  20  21  22  23  24\n",
       "3  25  26  27  28  29  30  31  32\n",
       "4  33  34  35  36  37  38  39  40\n",
       "5  41  42  43  44  45  46  47  48\n",
       "6  49  50  51  52  53  54  55  56\n",
       "7  57  58  59  60  61  62  63  64"
      ]
     },
     "execution_count": 50,
     "metadata": {},
     "output_type": "execute_result"
    }
   ],
   "source": [
    "df_2 = pd.read_excel('data/workbook.xlsx', 'second_sheet', header=None)\n",
    "df_2"
   ]
  },
  {
   "cell_type": "code",
   "execution_count": 51,
   "metadata": {
    "collapsed": true
   },
   "outputs": [],
   "source": [
    "import string\n",
    "columns = []\n",
    "for c in range(data.shape[0]):\n",
    "    columns.append(string.uppercase[c])\n",
    "df_1.columns = columns\n",
    "df_2.columns = columns"
   ]
  },
  {
   "cell_type": "code",
   "execution_count": 52,
   "metadata": {
    "collapsed": false
   },
   "outputs": [
    {
     "data": {
      "text/html": [
       "<div>\n",
       "<table border=\"1\" class=\"dataframe\">\n",
       "  <thead>\n",
       "    <tr style=\"text-align: right;\">\n",
       "      <th></th>\n",
       "      <th>A</th>\n",
       "      <th>B</th>\n",
       "      <th>C</th>\n",
       "      <th>D</th>\n",
       "      <th>E</th>\n",
       "      <th>F</th>\n",
       "      <th>G</th>\n",
       "      <th>H</th>\n",
       "    </tr>\n",
       "  </thead>\n",
       "  <tbody>\n",
       "    <tr>\n",
       "      <th>0</th>\n",
       "      <td>1</td>\n",
       "      <td>9</td>\n",
       "      <td>17</td>\n",
       "      <td>25</td>\n",
       "      <td>33</td>\n",
       "      <td>41</td>\n",
       "      <td>49</td>\n",
       "      <td>57</td>\n",
       "    </tr>\n",
       "    <tr>\n",
       "      <th>1</th>\n",
       "      <td>2</td>\n",
       "      <td>10</td>\n",
       "      <td>18</td>\n",
       "      <td>26</td>\n",
       "      <td>34</td>\n",
       "      <td>42</td>\n",
       "      <td>50</td>\n",
       "      <td>58</td>\n",
       "    </tr>\n",
       "    <tr>\n",
       "      <th>2</th>\n",
       "      <td>3</td>\n",
       "      <td>11</td>\n",
       "      <td>19</td>\n",
       "      <td>27</td>\n",
       "      <td>35</td>\n",
       "      <td>43</td>\n",
       "      <td>51</td>\n",
       "      <td>59</td>\n",
       "    </tr>\n",
       "    <tr>\n",
       "      <th>3</th>\n",
       "      <td>4</td>\n",
       "      <td>12</td>\n",
       "      <td>20</td>\n",
       "      <td>28</td>\n",
       "      <td>36</td>\n",
       "      <td>44</td>\n",
       "      <td>52</td>\n",
       "      <td>60</td>\n",
       "    </tr>\n",
       "    <tr>\n",
       "      <th>4</th>\n",
       "      <td>5</td>\n",
       "      <td>13</td>\n",
       "      <td>21</td>\n",
       "      <td>29</td>\n",
       "      <td>37</td>\n",
       "      <td>45</td>\n",
       "      <td>53</td>\n",
       "      <td>61</td>\n",
       "    </tr>\n",
       "    <tr>\n",
       "      <th>5</th>\n",
       "      <td>6</td>\n",
       "      <td>14</td>\n",
       "      <td>22</td>\n",
       "      <td>30</td>\n",
       "      <td>38</td>\n",
       "      <td>46</td>\n",
       "      <td>54</td>\n",
       "      <td>62</td>\n",
       "    </tr>\n",
       "    <tr>\n",
       "      <th>6</th>\n",
       "      <td>7</td>\n",
       "      <td>15</td>\n",
       "      <td>23</td>\n",
       "      <td>31</td>\n",
       "      <td>39</td>\n",
       "      <td>47</td>\n",
       "      <td>55</td>\n",
       "      <td>63</td>\n",
       "    </tr>\n",
       "    <tr>\n",
       "      <th>7</th>\n",
       "      <td>8</td>\n",
       "      <td>16</td>\n",
       "      <td>24</td>\n",
       "      <td>32</td>\n",
       "      <td>40</td>\n",
       "      <td>48</td>\n",
       "      <td>56</td>\n",
       "      <td>64</td>\n",
       "    </tr>\n",
       "  </tbody>\n",
       "</table>\n",
       "</div>"
      ],
      "text/plain": [
       "   A   B   C   D   E   F   G   H\n",
       "0  1   9  17  25  33  41  49  57\n",
       "1  2  10  18  26  34  42  50  58\n",
       "2  3  11  19  27  35  43  51  59\n",
       "3  4  12  20  28  36  44  52  60\n",
       "4  5  13  21  29  37  45  53  61\n",
       "5  6  14  22  30  38  46  54  62\n",
       "6  7  15  23  31  39  47  55  63\n",
       "7  8  16  24  32  40  48  56  64"
      ]
     },
     "execution_count": 52,
     "metadata": {},
     "output_type": "execute_result"
    }
   ],
   "source": [
    "df_1"
   ]
  },
  {
   "cell_type": "code",
   "execution_count": 53,
   "metadata": {
    "collapsed": false
   },
   "outputs": [
    {
     "data": {
      "text/html": [
       "<div>\n",
       "<table border=\"1\" class=\"dataframe\">\n",
       "  <thead>\n",
       "    <tr style=\"text-align: right;\">\n",
       "      <th></th>\n",
       "      <th>A</th>\n",
       "      <th>B</th>\n",
       "      <th>C</th>\n",
       "      <th>D</th>\n",
       "      <th>E</th>\n",
       "      <th>F</th>\n",
       "      <th>G</th>\n",
       "      <th>H</th>\n",
       "    </tr>\n",
       "  </thead>\n",
       "  <tbody>\n",
       "    <tr>\n",
       "      <th>0</th>\n",
       "      <td>1</td>\n",
       "      <td>2</td>\n",
       "      <td>3</td>\n",
       "      <td>4</td>\n",
       "      <td>5</td>\n",
       "      <td>6</td>\n",
       "      <td>7</td>\n",
       "      <td>8</td>\n",
       "    </tr>\n",
       "    <tr>\n",
       "      <th>1</th>\n",
       "      <td>9</td>\n",
       "      <td>10</td>\n",
       "      <td>11</td>\n",
       "      <td>12</td>\n",
       "      <td>13</td>\n",
       "      <td>14</td>\n",
       "      <td>15</td>\n",
       "      <td>16</td>\n",
       "    </tr>\n",
       "    <tr>\n",
       "      <th>2</th>\n",
       "      <td>17</td>\n",
       "      <td>18</td>\n",
       "      <td>19</td>\n",
       "      <td>20</td>\n",
       "      <td>21</td>\n",
       "      <td>22</td>\n",
       "      <td>23</td>\n",
       "      <td>24</td>\n",
       "    </tr>\n",
       "    <tr>\n",
       "      <th>3</th>\n",
       "      <td>25</td>\n",
       "      <td>26</td>\n",
       "      <td>27</td>\n",
       "      <td>28</td>\n",
       "      <td>29</td>\n",
       "      <td>30</td>\n",
       "      <td>31</td>\n",
       "      <td>32</td>\n",
       "    </tr>\n",
       "    <tr>\n",
       "      <th>4</th>\n",
       "      <td>33</td>\n",
       "      <td>34</td>\n",
       "      <td>35</td>\n",
       "      <td>36</td>\n",
       "      <td>37</td>\n",
       "      <td>38</td>\n",
       "      <td>39</td>\n",
       "      <td>40</td>\n",
       "    </tr>\n",
       "    <tr>\n",
       "      <th>5</th>\n",
       "      <td>41</td>\n",
       "      <td>42</td>\n",
       "      <td>43</td>\n",
       "      <td>44</td>\n",
       "      <td>45</td>\n",
       "      <td>46</td>\n",
       "      <td>47</td>\n",
       "      <td>48</td>\n",
       "    </tr>\n",
       "    <tr>\n",
       "      <th>6</th>\n",
       "      <td>49</td>\n",
       "      <td>50</td>\n",
       "      <td>51</td>\n",
       "      <td>52</td>\n",
       "      <td>53</td>\n",
       "      <td>54</td>\n",
       "      <td>55</td>\n",
       "      <td>56</td>\n",
       "    </tr>\n",
       "    <tr>\n",
       "      <th>7</th>\n",
       "      <td>57</td>\n",
       "      <td>58</td>\n",
       "      <td>59</td>\n",
       "      <td>60</td>\n",
       "      <td>61</td>\n",
       "      <td>62</td>\n",
       "      <td>63</td>\n",
       "      <td>64</td>\n",
       "    </tr>\n",
       "  </tbody>\n",
       "</table>\n",
       "</div>"
      ],
      "text/plain": [
       "    A   B   C   D   E   F   G   H\n",
       "0   1   2   3   4   5   6   7   8\n",
       "1   9  10  11  12  13  14  15  16\n",
       "2  17  18  19  20  21  22  23  24\n",
       "3  25  26  27  28  29  30  31  32\n",
       "4  33  34  35  36  37  38  39  40\n",
       "5  41  42  43  44  45  46  47  48\n",
       "6  49  50  51  52  53  54  55  56\n",
       "7  57  58  59  60  61  62  63  64"
      ]
     },
     "execution_count": 53,
     "metadata": {},
     "output_type": "execute_result"
    }
   ],
   "source": [
    "df_2"
   ]
  },
  {
   "cell_type": "code",
   "execution_count": 55,
   "metadata": {
    "collapsed": true
   },
   "outputs": [],
   "source": [
    "df_1.to_excel('./data/new_book_1.xlsx', 'my_sheet')"
   ]
  },
  {
   "cell_type": "code",
   "execution_count": 56,
   "metadata": {
    "collapsed": false
   },
   "outputs": [
    {
     "name": "stdout",
     "output_type": "stream",
     "text": [
      "total 48\r\n",
      "drwxr-xr-x 2 dockeruser dockeruser 4096 Jul  8 04:55 \u001b[0m\u001b[01;34m.\u001b[0m/\r\n",
      "drwxr-xr-x 4 dockeruser dockeruser 4096 Jul  8 04:55 \u001b[01;34m..\u001b[0m/\r\n",
      "-rw-r--r-- 1 dockeruser dockeruser 7375 Jul  8 04:50 chart.xlsx\r\n",
      "-rw-r--r-- 1 dockeruser dockeruser 5811 Jul  8 04:55 new_book_1.xlsx\r\n",
      "-rw-r--r-- 1 dockeruser dockeruser 5782 Jul  8 04:53 oxl_book.xlsx\r\n",
      "-rw-r--r-- 1 dockeruser dockeruser 5632 Jul  8 04:48 workbook.xls\r\n",
      "-rw-r--r-- 1 dockeruser dockeruser 6050 Jul  8 04:49 workbook.xlsx\r\n"
     ]
    }
   ],
   "source": [
    "%ls -Fcal ./data"
   ]
  },
  {
   "cell_type": "code",
   "execution_count": 57,
   "metadata": {
    "collapsed": false
   },
   "outputs": [
    {
     "data": {
      "text/plain": [
       "[u'my_sheet']"
      ]
     },
     "execution_count": 57,
     "metadata": {},
     "output_type": "execute_result"
    }
   ],
   "source": [
    "wbn = xlrd.open_workbook('./data/new_book_1.xlsx')\n",
    "wbn.sheet_names()"
   ]
  },
  {
   "cell_type": "code",
   "execution_count": 58,
   "metadata": {
    "collapsed": true
   },
   "outputs": [],
   "source": [
    "wbw = pd.ExcelWriter('./data/new_book_2.xlsx')\n",
    "df_1.to_excel(wbw, 'first_sheet')\n",
    "df_2.to_excel(wbw, 'second_sheet')\n",
    "wbw.save()"
   ]
  },
  {
   "cell_type": "code",
   "execution_count": 59,
   "metadata": {
    "collapsed": false
   },
   "outputs": [
    {
     "name": "stdout",
     "output_type": "stream",
     "text": [
      "total 56\r\n",
      "drwxr-xr-x 2 dockeruser dockeruser 4096 Jul  8 04:56 \u001b[0m\u001b[01;34m.\u001b[0m/\r\n",
      "drwxr-xr-x 4 dockeruser dockeruser 4096 Jul  8 04:55 \u001b[01;34m..\u001b[0m/\r\n",
      "-rw-r--r-- 1 dockeruser dockeruser 7375 Jul  8 04:50 chart.xlsx\r\n",
      "-rw-r--r-- 1 dockeruser dockeruser 5811 Jul  8 04:55 new_book_1.xlsx\r\n",
      "-rw-r--r-- 1 dockeruser dockeruser 6664 Jul  8 04:56 new_book_2.xlsx\r\n",
      "-rw-r--r-- 1 dockeruser dockeruser 5782 Jul  8 04:53 oxl_book.xlsx\r\n",
      "-rw-r--r-- 1 dockeruser dockeruser 5632 Jul  8 04:48 workbook.xls\r\n",
      "-rw-r--r-- 1 dockeruser dockeruser 6050 Jul  8 04:49 workbook.xlsx\r\n"
     ]
    }
   ],
   "source": [
    "%ls -Fcal ./data"
   ]
  },
  {
   "cell_type": "code",
   "execution_count": 60,
   "metadata": {
    "collapsed": false
   },
   "outputs": [
    {
     "data": {
      "text/plain": [
       "[u'first_sheet', u'second_sheet']"
      ]
     },
     "execution_count": 60,
     "metadata": {},
     "output_type": "execute_result"
    }
   ],
   "source": [
    "wbn = xlrd.open_workbook('./data/new_book_2.xlsx')\n",
    "wbn.sheet_names()"
   ]
  },
  {
   "cell_type": "code",
   "execution_count": 61,
   "metadata": {
    "collapsed": false
   },
   "outputs": [
    {
     "data": {
      "text/plain": [
       "16000000"
      ]
     },
     "execution_count": 61,
     "metadata": {},
     "output_type": "execute_result"
    }
   ],
   "source": [
    "data = np.random.rand(20, 100000)\n",
    "data.nbytes"
   ]
  },
  {
   "cell_type": "code",
   "execution_count": 62,
   "metadata": {
    "collapsed": false
   },
   "outputs": [
    {
     "data": {
      "text/html": [
       "<div>\n",
       "<table border=\"1\" class=\"dataframe\">\n",
       "  <thead>\n",
       "    <tr style=\"text-align: right;\">\n",
       "      <th></th>\n",
       "      <th>0</th>\n",
       "      <th>1</th>\n",
       "      <th>2</th>\n",
       "      <th>3</th>\n",
       "      <th>4</th>\n",
       "      <th>5</th>\n",
       "      <th>6</th>\n",
       "      <th>7</th>\n",
       "      <th>8</th>\n",
       "      <th>9</th>\n",
       "      <th>...</th>\n",
       "      <th>99990</th>\n",
       "      <th>99991</th>\n",
       "      <th>99992</th>\n",
       "      <th>99993</th>\n",
       "      <th>99994</th>\n",
       "      <th>99995</th>\n",
       "      <th>99996</th>\n",
       "      <th>99997</th>\n",
       "      <th>99998</th>\n",
       "      <th>99999</th>\n",
       "    </tr>\n",
       "  </thead>\n",
       "  <tbody>\n",
       "    <tr>\n",
       "      <th>0</th>\n",
       "      <td>0.793100</td>\n",
       "      <td>0.290056</td>\n",
       "      <td>0.583396</td>\n",
       "      <td>0.966430</td>\n",
       "      <td>0.923651</td>\n",
       "      <td>0.322442</td>\n",
       "      <td>0.154318</td>\n",
       "      <td>0.265497</td>\n",
       "      <td>0.264346</td>\n",
       "      <td>0.104558</td>\n",
       "      <td>...</td>\n",
       "      <td>0.936211</td>\n",
       "      <td>0.981311</td>\n",
       "      <td>0.055813</td>\n",
       "      <td>0.404973</td>\n",
       "      <td>0.682393</td>\n",
       "      <td>0.847683</td>\n",
       "      <td>0.604535</td>\n",
       "      <td>0.751707</td>\n",
       "      <td>0.318052</td>\n",
       "      <td>0.118904</td>\n",
       "    </tr>\n",
       "    <tr>\n",
       "      <th>1</th>\n",
       "      <td>0.592149</td>\n",
       "      <td>0.977925</td>\n",
       "      <td>0.487636</td>\n",
       "      <td>0.140595</td>\n",
       "      <td>0.579268</td>\n",
       "      <td>0.624574</td>\n",
       "      <td>0.386529</td>\n",
       "      <td>0.672645</td>\n",
       "      <td>0.888648</td>\n",
       "      <td>0.925261</td>\n",
       "      <td>...</td>\n",
       "      <td>0.246856</td>\n",
       "      <td>0.311114</td>\n",
       "      <td>0.963610</td>\n",
       "      <td>0.450400</td>\n",
       "      <td>0.996286</td>\n",
       "      <td>0.664110</td>\n",
       "      <td>0.169628</td>\n",
       "      <td>0.868465</td>\n",
       "      <td>0.378138</td>\n",
       "      <td>0.559427</td>\n",
       "    </tr>\n",
       "    <tr>\n",
       "      <th>2</th>\n",
       "      <td>0.556800</td>\n",
       "      <td>0.875934</td>\n",
       "      <td>0.689262</td>\n",
       "      <td>0.289976</td>\n",
       "      <td>0.006450</td>\n",
       "      <td>0.996536</td>\n",
       "      <td>0.615216</td>\n",
       "      <td>0.465078</td>\n",
       "      <td>0.532218</td>\n",
       "      <td>0.737862</td>\n",
       "      <td>...</td>\n",
       "      <td>0.431658</td>\n",
       "      <td>0.490750</td>\n",
       "      <td>0.088388</td>\n",
       "      <td>0.844733</td>\n",
       "      <td>0.770193</td>\n",
       "      <td>0.293460</td>\n",
       "      <td>0.778149</td>\n",
       "      <td>0.192933</td>\n",
       "      <td>0.337801</td>\n",
       "      <td>0.107539</td>\n",
       "    </tr>\n",
       "    <tr>\n",
       "      <th>3</th>\n",
       "      <td>0.020234</td>\n",
       "      <td>0.969383</td>\n",
       "      <td>0.193909</td>\n",
       "      <td>0.874451</td>\n",
       "      <td>0.451009</td>\n",
       "      <td>0.206470</td>\n",
       "      <td>0.661639</td>\n",
       "      <td>0.424887</td>\n",
       "      <td>0.006143</td>\n",
       "      <td>0.290917</td>\n",
       "      <td>...</td>\n",
       "      <td>0.575013</td>\n",
       "      <td>0.918006</td>\n",
       "      <td>0.565021</td>\n",
       "      <td>0.030208</td>\n",
       "      <td>0.944737</td>\n",
       "      <td>0.644644</td>\n",
       "      <td>0.203202</td>\n",
       "      <td>0.240416</td>\n",
       "      <td>0.335166</td>\n",
       "      <td>0.564975</td>\n",
       "    </tr>\n",
       "    <tr>\n",
       "      <th>4</th>\n",
       "      <td>0.094824</td>\n",
       "      <td>0.314200</td>\n",
       "      <td>0.898915</td>\n",
       "      <td>0.017384</td>\n",
       "      <td>0.672363</td>\n",
       "      <td>0.047202</td>\n",
       "      <td>0.132170</td>\n",
       "      <td>0.273767</td>\n",
       "      <td>0.902077</td>\n",
       "      <td>0.181586</td>\n",
       "      <td>...</td>\n",
       "      <td>0.927757</td>\n",
       "      <td>0.753796</td>\n",
       "      <td>0.505352</td>\n",
       "      <td>0.039284</td>\n",
       "      <td>0.959797</td>\n",
       "      <td>0.127906</td>\n",
       "      <td>0.212912</td>\n",
       "      <td>0.226325</td>\n",
       "      <td>0.390042</td>\n",
       "      <td>0.319557</td>\n",
       "    </tr>\n",
       "    <tr>\n",
       "      <th>5</th>\n",
       "      <td>0.249626</td>\n",
       "      <td>0.477221</td>\n",
       "      <td>0.187811</td>\n",
       "      <td>0.590910</td>\n",
       "      <td>0.228333</td>\n",
       "      <td>0.204200</td>\n",
       "      <td>0.210370</td>\n",
       "      <td>0.073378</td>\n",
       "      <td>0.601264</td>\n",
       "      <td>0.053763</td>\n",
       "      <td>...</td>\n",
       "      <td>0.862836</td>\n",
       "      <td>0.158814</td>\n",
       "      <td>0.701950</td>\n",
       "      <td>0.560324</td>\n",
       "      <td>0.870025</td>\n",
       "      <td>0.815638</td>\n",
       "      <td>0.584403</td>\n",
       "      <td>0.498614</td>\n",
       "      <td>0.712390</td>\n",
       "      <td>0.536535</td>\n",
       "    </tr>\n",
       "    <tr>\n",
       "      <th>6</th>\n",
       "      <td>0.036739</td>\n",
       "      <td>0.987864</td>\n",
       "      <td>0.304772</td>\n",
       "      <td>0.054295</td>\n",
       "      <td>0.444393</td>\n",
       "      <td>0.368979</td>\n",
       "      <td>0.163225</td>\n",
       "      <td>0.954481</td>\n",
       "      <td>0.900881</td>\n",
       "      <td>0.307288</td>\n",
       "      <td>...</td>\n",
       "      <td>0.212329</td>\n",
       "      <td>0.731505</td>\n",
       "      <td>0.510076</td>\n",
       "      <td>0.538380</td>\n",
       "      <td>0.531677</td>\n",
       "      <td>0.408143</td>\n",
       "      <td>0.356996</td>\n",
       "      <td>0.686571</td>\n",
       "      <td>0.703199</td>\n",
       "      <td>0.594908</td>\n",
       "    </tr>\n",
       "    <tr>\n",
       "      <th>7</th>\n",
       "      <td>0.155551</td>\n",
       "      <td>0.102987</td>\n",
       "      <td>0.791929</td>\n",
       "      <td>0.897123</td>\n",
       "      <td>0.634879</td>\n",
       "      <td>0.451910</td>\n",
       "      <td>0.702932</td>\n",
       "      <td>0.043877</td>\n",
       "      <td>0.529243</td>\n",
       "      <td>0.767344</td>\n",
       "      <td>...</td>\n",
       "      <td>0.101194</td>\n",
       "      <td>0.989258</td>\n",
       "      <td>0.156463</td>\n",
       "      <td>0.389187</td>\n",
       "      <td>0.884330</td>\n",
       "      <td>0.686334</td>\n",
       "      <td>0.642736</td>\n",
       "      <td>0.147801</td>\n",
       "      <td>0.862026</td>\n",
       "      <td>0.528545</td>\n",
       "    </tr>\n",
       "    <tr>\n",
       "      <th>8</th>\n",
       "      <td>0.785275</td>\n",
       "      <td>0.608935</td>\n",
       "      <td>0.474743</td>\n",
       "      <td>0.708921</td>\n",
       "      <td>0.767318</td>\n",
       "      <td>0.194513</td>\n",
       "      <td>0.688725</td>\n",
       "      <td>0.237486</td>\n",
       "      <td>0.761624</td>\n",
       "      <td>0.949359</td>\n",
       "      <td>...</td>\n",
       "      <td>0.448369</td>\n",
       "      <td>0.455015</td>\n",
       "      <td>0.187843</td>\n",
       "      <td>0.272060</td>\n",
       "      <td>0.437672</td>\n",
       "      <td>0.598499</td>\n",
       "      <td>0.754772</td>\n",
       "      <td>0.363502</td>\n",
       "      <td>0.443522</td>\n",
       "      <td>0.729368</td>\n",
       "    </tr>\n",
       "    <tr>\n",
       "      <th>9</th>\n",
       "      <td>0.661803</td>\n",
       "      <td>0.047524</td>\n",
       "      <td>0.259578</td>\n",
       "      <td>0.977401</td>\n",
       "      <td>0.315901</td>\n",
       "      <td>0.853187</td>\n",
       "      <td>0.216957</td>\n",
       "      <td>0.712201</td>\n",
       "      <td>0.393311</td>\n",
       "      <td>0.340896</td>\n",
       "      <td>...</td>\n",
       "      <td>0.518859</td>\n",
       "      <td>0.901894</td>\n",
       "      <td>0.727146</td>\n",
       "      <td>0.981920</td>\n",
       "      <td>0.521907</td>\n",
       "      <td>0.576952</td>\n",
       "      <td>0.333319</td>\n",
       "      <td>0.366821</td>\n",
       "      <td>0.379062</td>\n",
       "      <td>0.592537</td>\n",
       "    </tr>\n",
       "    <tr>\n",
       "      <th>10</th>\n",
       "      <td>0.193371</td>\n",
       "      <td>0.755933</td>\n",
       "      <td>0.921434</td>\n",
       "      <td>0.022184</td>\n",
       "      <td>0.897012</td>\n",
       "      <td>0.278873</td>\n",
       "      <td>0.942517</td>\n",
       "      <td>0.545123</td>\n",
       "      <td>0.780738</td>\n",
       "      <td>0.967167</td>\n",
       "      <td>...</td>\n",
       "      <td>0.965361</td>\n",
       "      <td>0.808522</td>\n",
       "      <td>0.021221</td>\n",
       "      <td>0.085114</td>\n",
       "      <td>0.575308</td>\n",
       "      <td>0.488282</td>\n",
       "      <td>0.714469</td>\n",
       "      <td>0.650973</td>\n",
       "      <td>0.790076</td>\n",
       "      <td>0.477692</td>\n",
       "    </tr>\n",
       "    <tr>\n",
       "      <th>11</th>\n",
       "      <td>0.780899</td>\n",
       "      <td>0.587837</td>\n",
       "      <td>0.180125</td>\n",
       "      <td>0.687044</td>\n",
       "      <td>0.492060</td>\n",
       "      <td>0.572677</td>\n",
       "      <td>0.985433</td>\n",
       "      <td>0.663325</td>\n",
       "      <td>0.080520</td>\n",
       "      <td>0.433118</td>\n",
       "      <td>...</td>\n",
       "      <td>0.905863</td>\n",
       "      <td>0.553130</td>\n",
       "      <td>0.207558</td>\n",
       "      <td>0.521882</td>\n",
       "      <td>0.481516</td>\n",
       "      <td>0.759161</td>\n",
       "      <td>0.050874</td>\n",
       "      <td>0.338774</td>\n",
       "      <td>0.295547</td>\n",
       "      <td>0.180345</td>\n",
       "    </tr>\n",
       "    <tr>\n",
       "      <th>12</th>\n",
       "      <td>0.317469</td>\n",
       "      <td>0.267338</td>\n",
       "      <td>0.828032</td>\n",
       "      <td>0.112232</td>\n",
       "      <td>0.265220</td>\n",
       "      <td>0.728244</td>\n",
       "      <td>0.779422</td>\n",
       "      <td>0.649815</td>\n",
       "      <td>0.136367</td>\n",
       "      <td>0.035565</td>\n",
       "      <td>...</td>\n",
       "      <td>0.283905</td>\n",
       "      <td>0.050874</td>\n",
       "      <td>0.744962</td>\n",
       "      <td>0.970457</td>\n",
       "      <td>0.776022</td>\n",
       "      <td>0.405116</td>\n",
       "      <td>0.183992</td>\n",
       "      <td>0.386503</td>\n",
       "      <td>0.265440</td>\n",
       "      <td>0.705505</td>\n",
       "    </tr>\n",
       "    <tr>\n",
       "      <th>13</th>\n",
       "      <td>0.573384</td>\n",
       "      <td>0.868479</td>\n",
       "      <td>0.973574</td>\n",
       "      <td>0.768788</td>\n",
       "      <td>0.964174</td>\n",
       "      <td>0.850699</td>\n",
       "      <td>0.496993</td>\n",
       "      <td>0.180656</td>\n",
       "      <td>0.025995</td>\n",
       "      <td>0.392899</td>\n",
       "      <td>...</td>\n",
       "      <td>0.155902</td>\n",
       "      <td>0.105075</td>\n",
       "      <td>0.669590</td>\n",
       "      <td>0.467595</td>\n",
       "      <td>0.000023</td>\n",
       "      <td>0.461704</td>\n",
       "      <td>0.126067</td>\n",
       "      <td>0.249849</td>\n",
       "      <td>0.913891</td>\n",
       "      <td>0.052940</td>\n",
       "    </tr>\n",
       "    <tr>\n",
       "      <th>14</th>\n",
       "      <td>0.454735</td>\n",
       "      <td>0.901256</td>\n",
       "      <td>0.041397</td>\n",
       "      <td>0.331318</td>\n",
       "      <td>0.162939</td>\n",
       "      <td>0.761066</td>\n",
       "      <td>0.587393</td>\n",
       "      <td>0.552281</td>\n",
       "      <td>0.428264</td>\n",
       "      <td>0.182178</td>\n",
       "      <td>...</td>\n",
       "      <td>0.639741</td>\n",
       "      <td>0.110956</td>\n",
       "      <td>0.320534</td>\n",
       "      <td>0.752522</td>\n",
       "      <td>0.336629</td>\n",
       "      <td>0.968374</td>\n",
       "      <td>0.596937</td>\n",
       "      <td>0.016608</td>\n",
       "      <td>0.308348</td>\n",
       "      <td>0.372741</td>\n",
       "    </tr>\n",
       "    <tr>\n",
       "      <th>15</th>\n",
       "      <td>0.039257</td>\n",
       "      <td>0.676711</td>\n",
       "      <td>0.800690</td>\n",
       "      <td>0.915406</td>\n",
       "      <td>0.142485</td>\n",
       "      <td>0.051275</td>\n",
       "      <td>0.830822</td>\n",
       "      <td>0.832145</td>\n",
       "      <td>0.980107</td>\n",
       "      <td>0.906851</td>\n",
       "      <td>...</td>\n",
       "      <td>0.033934</td>\n",
       "      <td>0.358502</td>\n",
       "      <td>0.512860</td>\n",
       "      <td>0.262180</td>\n",
       "      <td>0.465864</td>\n",
       "      <td>0.950770</td>\n",
       "      <td>0.032259</td>\n",
       "      <td>0.591920</td>\n",
       "      <td>0.492434</td>\n",
       "      <td>0.572393</td>\n",
       "    </tr>\n",
       "    <tr>\n",
       "      <th>16</th>\n",
       "      <td>0.840164</td>\n",
       "      <td>0.967752</td>\n",
       "      <td>0.240112</td>\n",
       "      <td>0.007850</td>\n",
       "      <td>0.215525</td>\n",
       "      <td>0.281160</td>\n",
       "      <td>0.308040</td>\n",
       "      <td>0.400088</td>\n",
       "      <td>0.331418</td>\n",
       "      <td>0.257642</td>\n",
       "      <td>...</td>\n",
       "      <td>0.077701</td>\n",
       "      <td>0.082775</td>\n",
       "      <td>0.870017</td>\n",
       "      <td>0.715198</td>\n",
       "      <td>0.295637</td>\n",
       "      <td>0.314729</td>\n",
       "      <td>0.872157</td>\n",
       "      <td>0.283856</td>\n",
       "      <td>0.523854</td>\n",
       "      <td>0.621991</td>\n",
       "    </tr>\n",
       "    <tr>\n",
       "      <th>17</th>\n",
       "      <td>0.434295</td>\n",
       "      <td>0.315422</td>\n",
       "      <td>0.411673</td>\n",
       "      <td>0.397073</td>\n",
       "      <td>0.953368</td>\n",
       "      <td>0.152800</td>\n",
       "      <td>0.192639</td>\n",
       "      <td>0.042227</td>\n",
       "      <td>0.606172</td>\n",
       "      <td>0.024539</td>\n",
       "      <td>...</td>\n",
       "      <td>0.511029</td>\n",
       "      <td>0.032805</td>\n",
       "      <td>0.508156</td>\n",
       "      <td>0.845321</td>\n",
       "      <td>0.873530</td>\n",
       "      <td>0.846385</td>\n",
       "      <td>0.079159</td>\n",
       "      <td>0.169301</td>\n",
       "      <td>0.929852</td>\n",
       "      <td>0.279567</td>\n",
       "    </tr>\n",
       "    <tr>\n",
       "      <th>18</th>\n",
       "      <td>0.310509</td>\n",
       "      <td>0.753710</td>\n",
       "      <td>0.494310</td>\n",
       "      <td>0.288319</td>\n",
       "      <td>0.722850</td>\n",
       "      <td>0.600826</td>\n",
       "      <td>0.874846</td>\n",
       "      <td>0.314385</td>\n",
       "      <td>0.570024</td>\n",
       "      <td>0.538693</td>\n",
       "      <td>...</td>\n",
       "      <td>0.739287</td>\n",
       "      <td>0.973737</td>\n",
       "      <td>0.230978</td>\n",
       "      <td>0.917690</td>\n",
       "      <td>0.440219</td>\n",
       "      <td>0.715325</td>\n",
       "      <td>0.711091</td>\n",
       "      <td>0.792424</td>\n",
       "      <td>0.453736</td>\n",
       "      <td>0.397569</td>\n",
       "    </tr>\n",
       "    <tr>\n",
       "      <th>19</th>\n",
       "      <td>0.590204</td>\n",
       "      <td>0.750580</td>\n",
       "      <td>0.443926</td>\n",
       "      <td>0.540892</td>\n",
       "      <td>0.296287</td>\n",
       "      <td>0.043844</td>\n",
       "      <td>0.603139</td>\n",
       "      <td>0.518104</td>\n",
       "      <td>0.146806</td>\n",
       "      <td>0.553369</td>\n",
       "      <td>...</td>\n",
       "      <td>0.216828</td>\n",
       "      <td>0.112292</td>\n",
       "      <td>0.756146</td>\n",
       "      <td>0.893212</td>\n",
       "      <td>0.925478</td>\n",
       "      <td>0.307175</td>\n",
       "      <td>0.938525</td>\n",
       "      <td>0.312391</td>\n",
       "      <td>0.767320</td>\n",
       "      <td>0.633252</td>\n",
       "    </tr>\n",
       "  </tbody>\n",
       "</table>\n",
       "<p>20 rows × 100000 columns</p>\n",
       "</div>"
      ],
      "text/plain": [
       "       0         1         2         3         4         5         6      \\\n",
       "0   0.793100  0.290056  0.583396  0.966430  0.923651  0.322442  0.154318   \n",
       "1   0.592149  0.977925  0.487636  0.140595  0.579268  0.624574  0.386529   \n",
       "2   0.556800  0.875934  0.689262  0.289976  0.006450  0.996536  0.615216   \n",
       "3   0.020234  0.969383  0.193909  0.874451  0.451009  0.206470  0.661639   \n",
       "4   0.094824  0.314200  0.898915  0.017384  0.672363  0.047202  0.132170   \n",
       "5   0.249626  0.477221  0.187811  0.590910  0.228333  0.204200  0.210370   \n",
       "6   0.036739  0.987864  0.304772  0.054295  0.444393  0.368979  0.163225   \n",
       "7   0.155551  0.102987  0.791929  0.897123  0.634879  0.451910  0.702932   \n",
       "8   0.785275  0.608935  0.474743  0.708921  0.767318  0.194513  0.688725   \n",
       "9   0.661803  0.047524  0.259578  0.977401  0.315901  0.853187  0.216957   \n",
       "10  0.193371  0.755933  0.921434  0.022184  0.897012  0.278873  0.942517   \n",
       "11  0.780899  0.587837  0.180125  0.687044  0.492060  0.572677  0.985433   \n",
       "12  0.317469  0.267338  0.828032  0.112232  0.265220  0.728244  0.779422   \n",
       "13  0.573384  0.868479  0.973574  0.768788  0.964174  0.850699  0.496993   \n",
       "14  0.454735  0.901256  0.041397  0.331318  0.162939  0.761066  0.587393   \n",
       "15  0.039257  0.676711  0.800690  0.915406  0.142485  0.051275  0.830822   \n",
       "16  0.840164  0.967752  0.240112  0.007850  0.215525  0.281160  0.308040   \n",
       "17  0.434295  0.315422  0.411673  0.397073  0.953368  0.152800  0.192639   \n",
       "18  0.310509  0.753710  0.494310  0.288319  0.722850  0.600826  0.874846   \n",
       "19  0.590204  0.750580  0.443926  0.540892  0.296287  0.043844  0.603139   \n",
       "\n",
       "       7         8         9        ...        99990     99991     99992  \\\n",
       "0   0.265497  0.264346  0.104558    ...     0.936211  0.981311  0.055813   \n",
       "1   0.672645  0.888648  0.925261    ...     0.246856  0.311114  0.963610   \n",
       "2   0.465078  0.532218  0.737862    ...     0.431658  0.490750  0.088388   \n",
       "3   0.424887  0.006143  0.290917    ...     0.575013  0.918006  0.565021   \n",
       "4   0.273767  0.902077  0.181586    ...     0.927757  0.753796  0.505352   \n",
       "5   0.073378  0.601264  0.053763    ...     0.862836  0.158814  0.701950   \n",
       "6   0.954481  0.900881  0.307288    ...     0.212329  0.731505  0.510076   \n",
       "7   0.043877  0.529243  0.767344    ...     0.101194  0.989258  0.156463   \n",
       "8   0.237486  0.761624  0.949359    ...     0.448369  0.455015  0.187843   \n",
       "9   0.712201  0.393311  0.340896    ...     0.518859  0.901894  0.727146   \n",
       "10  0.545123  0.780738  0.967167    ...     0.965361  0.808522  0.021221   \n",
       "11  0.663325  0.080520  0.433118    ...     0.905863  0.553130  0.207558   \n",
       "12  0.649815  0.136367  0.035565    ...     0.283905  0.050874  0.744962   \n",
       "13  0.180656  0.025995  0.392899    ...     0.155902  0.105075  0.669590   \n",
       "14  0.552281  0.428264  0.182178    ...     0.639741  0.110956  0.320534   \n",
       "15  0.832145  0.980107  0.906851    ...     0.033934  0.358502  0.512860   \n",
       "16  0.400088  0.331418  0.257642    ...     0.077701  0.082775  0.870017   \n",
       "17  0.042227  0.606172  0.024539    ...     0.511029  0.032805  0.508156   \n",
       "18  0.314385  0.570024  0.538693    ...     0.739287  0.973737  0.230978   \n",
       "19  0.518104  0.146806  0.553369    ...     0.216828  0.112292  0.756146   \n",
       "\n",
       "       99993     99994     99995     99996     99997     99998     99999  \n",
       "0   0.404973  0.682393  0.847683  0.604535  0.751707  0.318052  0.118904  \n",
       "1   0.450400  0.996286  0.664110  0.169628  0.868465  0.378138  0.559427  \n",
       "2   0.844733  0.770193  0.293460  0.778149  0.192933  0.337801  0.107539  \n",
       "3   0.030208  0.944737  0.644644  0.203202  0.240416  0.335166  0.564975  \n",
       "4   0.039284  0.959797  0.127906  0.212912  0.226325  0.390042  0.319557  \n",
       "5   0.560324  0.870025  0.815638  0.584403  0.498614  0.712390  0.536535  \n",
       "6   0.538380  0.531677  0.408143  0.356996  0.686571  0.703199  0.594908  \n",
       "7   0.389187  0.884330  0.686334  0.642736  0.147801  0.862026  0.528545  \n",
       "8   0.272060  0.437672  0.598499  0.754772  0.363502  0.443522  0.729368  \n",
       "9   0.981920  0.521907  0.576952  0.333319  0.366821  0.379062  0.592537  \n",
       "10  0.085114  0.575308  0.488282  0.714469  0.650973  0.790076  0.477692  \n",
       "11  0.521882  0.481516  0.759161  0.050874  0.338774  0.295547  0.180345  \n",
       "12  0.970457  0.776022  0.405116  0.183992  0.386503  0.265440  0.705505  \n",
       "13  0.467595  0.000023  0.461704  0.126067  0.249849  0.913891  0.052940  \n",
       "14  0.752522  0.336629  0.968374  0.596937  0.016608  0.308348  0.372741  \n",
       "15  0.262180  0.465864  0.950770  0.032259  0.591920  0.492434  0.572393  \n",
       "16  0.715198  0.295637  0.314729  0.872157  0.283856  0.523854  0.621991  \n",
       "17  0.845321  0.873530  0.846385  0.079159  0.169301  0.929852  0.279567  \n",
       "18  0.917690  0.440219  0.715325  0.711091  0.792424  0.453736  0.397569  \n",
       "19  0.893212  0.925478  0.307175  0.938525  0.312391  0.767320  0.633252  \n",
       "\n",
       "[20 rows x 100000 columns]"
      ]
     },
     "execution_count": 62,
     "metadata": {},
     "output_type": "execute_result"
    }
   ],
   "source": [
    "df = pd.DataFrame(data)\n",
    "df"
   ]
  },
  {
   "cell_type": "code",
   "execution_count": 63,
   "metadata": {
    "collapsed": false
   },
   "outputs": [
    {
     "name": "stdout",
     "output_type": "stream",
     "text": [
      "CPU times: user 25.8 s, sys: 0 ns, total: 25.8 s\n",
      "Wall time: 26.1 s\n"
     ]
    }
   ],
   "source": [
    "%time df.to_excel('data/data.xlsx', 'data_sheet')"
   ]
  },
  {
   "cell_type": "code",
   "execution_count": 64,
   "metadata": {
    "collapsed": false
   },
   "outputs": [
    {
     "name": "stdout",
     "output_type": "stream",
     "text": [
      "CPU times: user 3.38 s, sys: 0 ns, total: 3.38 s\n",
      "Wall time: 3.38 s\n"
     ]
    }
   ],
   "source": [
    "%time df = pd.read_excel('data/data.xlsx', 'data_sheet')"
   ]
  },
  {
   "cell_type": "markdown",
   "metadata": {},
   "source": [
    "## 기타 Excel 패키지\n",
    "\n",
    "* PyXLL \n",
    "* DataNitro\n",
    "* xlwings\n",
    "\n",
    "\n",
    "* COM(Component Object Model) 방식\n",
    "* 백그라운드로 Excel을 가동시키고 통신하는 방식\n",
    "* Windows OS 에서 Excel이 설치되어 있는 경우에만 가능\n",
    "* Interactive 동작, VBA script 연동 등이 가능"
   ]
  },
  {
   "cell_type": "code",
   "execution_count": 65,
   "metadata": {
    "collapsed": true
   },
   "outputs": [],
   "source": [
    "%rm -rf ./data/*.xls\n",
    "%rm -rf ./data/*.xlsx"
   ]
  }
 ],
 "metadata": {
  "kernelspec": {
   "display_name": "Python 2",
   "language": "python",
   "name": "python2"
  },
  "language_info": {
   "codemirror_mode": {
    "name": "ipython",
    "version": 2
   },
   "file_extension": ".py",
   "mimetype": "text/x-python",
   "name": "python",
   "nbconvert_exporter": "python",
   "pygments_lexer": "ipython2",
   "version": "2.7.11"
  }
 },
 "nbformat": 4,
 "nbformat_minor": 0
}