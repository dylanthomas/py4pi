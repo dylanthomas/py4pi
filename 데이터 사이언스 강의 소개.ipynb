{
 "cells": [
  {
   "cell_type": "markdown",
   "metadata": {},
   "source": [
    "# 데이터 사이언스 강의 소개"
   ]
  },
  {
   "cell_type": "markdown",
   "metadata": {},
   "source": [
    "## 강의 커리큘럼"
   ]
  },
  {
   "cell_type": "markdown",
   "metadata": {},
   "source": [
    "### 1. 데이터 분석 환경 <small>Development and Operation Environment</small>"
   ]
  },
  {
   "cell_type": "markdown",
   "metadata": {},
   "source": [
    "데이터 분석을 위한 컴퓨팅 환경을 설치하고 사용하는 방법을 보인다. 분석 환경은 리눅스 운영체제 상에서 도커(Docker)로 설치되며 필수적인 소크트웨어들이 이미 설치되어 있는 도커 이미지를 도커 허브를 통해 제공한다. 윈도우즈나 맥 사용자를 위해 도커 툴박스와 가상머신 위에서 도커를 실행하는 방법도 설명한다."
   ]
  },
  {
   "cell_type": "markdown",
   "metadata": {},
   "source": [
    "[[school_notebook:e87bcccf2b6f4c1cae18fb3fdf7ed4a8]]"
   ]
  },
  {
   "cell_type": "markdown",
   "metadata": {},
   "source": [
    "[[school_notebook:22cc3845d45f4dc7b27828294fce3c93]]"
   ]
  },
  {
   "cell_type": "markdown",
   "metadata": {},
   "source": [
    "[[school_notebook:03c5b5a96a614ee588a74f05c720e67c]]"
   ]
  },
  {
   "cell_type": "markdown",
   "metadata": {},
   "source": [
    "[[school_notebook:708e711429a646818b9dcbb581e0c10a]]"
   ]
  },
  {
   "cell_type": "markdown",
   "metadata": {},
   "source": [
    "### 2. 파이썬 프로그래밍 <small>Python programming</small>"
   ]
  },
  {
   "cell_type": "markdown",
   "metadata": {},
   "source": [
    "본 강의는 파이썬 프로그래밍 언어와 패키지를 사용한다. 기본적인 파이썬 언어 문법외에도 NumPy, SciPy, pandas, matplotlib, seaborn 등 데이터 분석에 필수적인 패키지를 소개한다."
   ]
  },
  {
   "cell_type": "markdown",
   "metadata": {},
   "source": [
    "[[school_notebook:5e52b7c4b5754f2585844c8d9b26cdb5]]"
   ]
  },
  {
   "cell_type": "markdown",
   "metadata": {},
   "source": [
    "[[school_notebook:ab78f919fdb84e838039c674acba5650]]"
   ]
  },
  {
   "cell_type": "markdown",
   "metadata": {},
   "source": [
    "[[school_notebook:5b02e79e8bc94275af5f16f2c7aad26a]]"
   ]
  },
  {
   "cell_type": "markdown",
   "metadata": {},
   "source": [
    "[[school_notebook:b85212ea4040408e8ebd6d3495f2c91b]]"
   ]
  },
  {
   "cell_type": "markdown",
   "metadata": {},
   "source": [
    "[[school_notebook:3f356478d65a4932b1e29ccfe9c6edfe]]"
   ]
  },
  {
   "cell_type": "markdown",
   "metadata": {},
   "source": [
    "[[school_notebook:24e43f9df9ec4abab15e32e68e982cc1]]"
   ]
  },
  {
   "cell_type": "markdown",
   "metadata": {},
   "source": [
    "[[school_notebook:175522b819ae4645907179462dabc5d4]]"
   ]
  },
  {
   "cell_type": "markdown",
   "metadata": {},
   "source": [
    "[[school_notebook:b09d3674cb91466f9ef7eab6c0ca3bf9]]"
   ]
  },
  {
   "cell_type": "markdown",
   "metadata": {},
   "source": [
    "[[school_notebook:465066ac92ef4da3b0aba32f76d9750a]]"
   ]
  },
  {
   "cell_type": "markdown",
   "metadata": {},
   "source": [
    "[[school_notebook:ee0a5679dd574b94b55193690992f850]]"
   ]
  },
  {
   "cell_type": "markdown",
   "metadata": {},
   "source": [
    "[[school_notebook:704731b41f794b8ea00768f5b0904512]]"
   ]
  },
  {
   "cell_type": "markdown",
   "metadata": {},
   "source": [
    "[[school_notebook:76dcd63bba2c4959af15bec41b197e7c]]"
   ]
  },
  {
   "cell_type": "markdown",
   "metadata": {},
   "source": [
    "[[school_notebook:c5ccddd6716042ee8be3e5436081778b]]"
   ]
  },
  {
   "cell_type": "markdown",
   "metadata": {},
   "source": [
    "### 3. 데이터 분석의 소개 <small>Introduction to Data Science</small>"
   ]
  },
  {
   "cell_type": "markdown",
   "metadata": {},
   "source": [
    "데이터와 데이터 분석의 개념, 그리고 예측, 클러스터링 등의 전형적인 데이터 분석 유형에 대해 소개한다."
   ]
  },
  {
   "cell_type": "markdown",
   "metadata": {},
   "source": [
    "[[school_notebook:d67e9751b6ff463582aa4cc6d4f5b5e3]]"
   ]
  },
  {
   "cell_type": "markdown",
   "metadata": {},
   "source": [
    "### 4. 기초 확률론 1 - 확률의 정의 <small>Definition of Probability</small>"
   ]
  },
  {
   "cell_type": "markdown",
   "metadata": {},
   "source": [
    "데이터 분석에 필요한 기초적인 확률론 개념들을 소개한다."
   ]
  },
  {
   "cell_type": "markdown",
   "metadata": {},
   "source": [
    "[[school_notebook:9341c66303174eea9d35b2e4b6981ed9]]"
   ]
  },
  {
   "cell_type": "markdown",
   "metadata": {},
   "source": [
    "[[school_notebook:d410ba427b5f456289ca1dd64ad2b0c5]]"
   ]
  },
  {
   "cell_type": "markdown",
   "metadata": {},
   "source": [
    "[[school_notebook:9605664e26a0411b88f60e4ba9521dd9]]"
   ]
  },
  {
   "cell_type": "markdown",
   "metadata": {},
   "source": [
    "[[school_notebook:f77e7d3f59b8437181dff01a88520f09]]"
   ]
  },
  {
   "cell_type": "markdown",
   "metadata": {},
   "source": [
    "[[school_notebook:f68d16df9ea448689ae66dc2140fe673]]"
   ]
  },
  {
   "cell_type": "markdown",
   "metadata": {},
   "source": [
    "[[school_notebook:165cbb986f2c443ba7bac9ec83659b46]]"
   ]
  },
  {
   "cell_type": "markdown",
   "metadata": {},
   "source": [
    "[[school_notebook:e343b95bd3b740da9d966af0e6cc56a1]]"
   ]
  },
  {
   "cell_type": "markdown",
   "metadata": {},
   "source": [
    "### 5. 기초 선형 대수 1 - 행렬의 정의와 연산 <small>Basic Linear Algebra</small>"
   ]
  },
  {
   "cell_type": "markdown",
   "metadata": {},
   "source": [
    "[[school_notebook:416d733c3a734565b69fd0c8dc959edb]]"
   ]
  },
  {
   "cell_type": "markdown",
   "metadata": {},
   "source": [
    "[[school_notebook:17608f897087478bbeac096438c716f6]]"
   ]
  },
  {
   "cell_type": "markdown",
   "metadata": {},
   "source": [
    "[[school_notebook:464860bf5a5f4e139b05ccc473f1f15c]]"
   ]
  },
  {
   "cell_type": "markdown",
   "metadata": {},
   "source": [
    "[[school_notebook:cd600e9627cd4f16bc4f6078231ab28c]]"
   ]
  },
  {
   "cell_type": "markdown",
   "metadata": {},
   "source": [
    "[[school_notebook:d6205659aff0413797c22552947aec83]]"
   ]
  },
  {
   "cell_type": "markdown",
   "metadata": {},
   "source": [
    "[[school_notebook:927d7f7972dd434ead9d294169ae7f34]]"
   ]
  },
  {
   "cell_type": "markdown",
   "metadata": {},
   "source": [
    "### 6 시각화 <small>Visualization</small>"
   ]
  },
  {
   "cell_type": "markdown",
   "metadata": {},
   "source": [
    "[[school_notebook:d0b1637803754bb083b5722c9f2209d0]]"
   ]
  },
  {
   "cell_type": "markdown",
   "metadata": {},
   "source": [
    "[[school_notebook:6e71dbff254542d9b0a054a7c98b34ec]]"
   ]
  },
  {
   "cell_type": "markdown",
   "metadata": {},
   "source": [
    "[[school_notebook:4c2d5ff1caab4b21a708cc662137bc65]]"
   ]
  },
  {
   "cell_type": "markdown",
   "metadata": {},
   "source": [
    "[[school_notebook:b03af554a1494f159fc94d65d70fe7b2]]"
   ]
  },
  {
   "cell_type": "markdown",
   "metadata": {},
   "source": [
    "### 7. 미적분<small>Calculus</small>과 최적화<small>Optimization</small>"
   ]
  },
  {
   "cell_type": "markdown",
   "metadata": {},
   "source": [
    "[[school_notebook:5f5f4a966f9042efa43d711008df9c0b]]"
   ]
  },
  {
   "cell_type": "markdown",
   "metadata": {},
   "source": [
    "[[school_notebook:8595892721714eb68be24727b5323778]]"
   ]
  },
  {
   "cell_type": "markdown",
   "metadata": {},
   "source": [
    "[[school_notebook:4642b9f187784444b8f3a8309c583007]]"
   ]
  },
  {
   "cell_type": "markdown",
   "metadata": {},
   "source": [
    "[[school_notebook:38c2851f57b74d048c9785e7a66854d0]]"
   ]
  },
  {
   "cell_type": "markdown",
   "metadata": {},
   "source": [
    "### 8. 기초 확률론 2 - 확률 분포 <small>Probability Distribution</small>"
   ]
  },
  {
   "cell_type": "markdown",
   "metadata": {},
   "source": [
    "[[school_notebook:69b85ec9afb7415d8da4c8cd5e46d22e]]"
   ]
  },
  {
   "cell_type": "markdown",
   "metadata": {},
   "source": [
    "[[school_notebook:56e7a25aad2a4539b3c31eb3eb787a54]]"
   ]
  },
  {
   "cell_type": "markdown",
   "metadata": {},
   "source": [
    "[[school_notebook:4bcfe70a64de40ec945639236b0e911d]]"
   ]
  },
  {
   "cell_type": "markdown",
   "metadata": {},
   "source": [
    "[[school_notebook:c46ce2d2a60d48edbc7c3e6e71394c26]]"
   ]
  },
  {
   "cell_type": "markdown",
   "metadata": {},
   "source": [
    "[[school_notebook:dd6a7633d69f401bb00409b9ae8806e8]]"
   ]
  },
  {
   "cell_type": "markdown",
   "metadata": {},
   "source": [
    "[[school_notebook:b9dcd289a49546ffacfdc5f5bc9a2fc0]]"
   ]
  },
  {
   "cell_type": "markdown",
   "metadata": {},
   "source": [
    "### 9. 기초 확률론 3 - 확률 모형 <small>Probability Models</small>\n",
    "\n"
   ]
  },
  {
   "cell_type": "markdown",
   "metadata": {},
   "source": [
    "[[school_notebook:5e2ee247518f47a6ba2d0894b33c73a3]]"
   ]
  },
  {
   "cell_type": "markdown",
   "metadata": {},
   "source": [
    "[[school_notebook:ddb0f7906b6146e09f5c1e633b4fbe3a]]"
   ]
  },
  {
   "cell_type": "markdown",
   "metadata": {},
   "source": [
    "[[school_notebook:76acc92d28354e86940001f9fe85c50f]]"
   ]
  },
  {
   "cell_type": "markdown",
   "metadata": {},
   "source": [
    "[[school_notebook:8956e37db86c44b3b1b3a4c3357e590c]]"
   ]
  },
  {
   "cell_type": "markdown",
   "metadata": {},
   "source": [
    "[[school_notebook:683cfb97b17041f3a9a0e6cbee5f1fef]]"
   ]
  },
  {
   "cell_type": "markdown",
   "metadata": {},
   "source": [
    "[[school_notebook:38dd519067f249afa6d6285591b0ee61]]"
   ]
  },
  {
   "cell_type": "markdown",
   "metadata": {},
   "source": [
    "[[school_notebook:70a372b9c14a4e8d9d49737f0b5a3c97]]"
   ]
  },
  {
   "cell_type": "markdown",
   "metadata": {},
   "source": [
    "[[school_notebook:1507654ffe9c4174b5d971e6f0efc84c]]"
   ]
  },
  {
   "cell_type": "markdown",
   "metadata": {},
   "source": [
    "[[school_notebook:354eb1d0e307423697ed805df07b96a5]]"
   ]
  },
  {
   "cell_type": "markdown",
   "metadata": {},
   "source": [
    "[[school_notebook:ab191449d60542edadaae91bc12deb99]]"
   ]
  },
  {
   "cell_type": "markdown",
   "metadata": {},
   "source": [
    "[[school_notebook:e0508d3b7dd6427eba2d35e1f629d3de]]"
   ]
  },
  {
   "cell_type": "markdown",
   "metadata": {},
   "source": [
    "[[school_notebook:178adb41ee8141da83f1ba467e454ee2]]"
   ]
  },
  {
   "cell_type": "markdown",
   "metadata": {},
   "source": [
    "### 10. 기초 확률론 4 - 상관 관계 <small>Correlation</small>\n",
    "\n"
   ]
  },
  {
   "cell_type": "markdown",
   "metadata": {},
   "source": [
    "[[school_notebook:e08074f293144eeca9cc7251b5d5666c]]"
   ]
  },
  {
   "cell_type": "markdown",
   "metadata": {},
   "source": [
    "[[school_notebook:ca281bee587b42378cd73d8ae1d42b37]]"
   ]
  },
  {
   "cell_type": "markdown",
   "metadata": {},
   "source": [
    "[[school_notebook:4cab41c0d9cd4eafaff8a45f590592c5]]"
   ]
  },
  {
   "cell_type": "markdown",
   "metadata": {},
   "source": [
    "### 11. 추정 <small>Estimation</small> 및 검정 <small>Test</small>\n"
   ]
  },
  {
   "cell_type": "markdown",
   "metadata": {},
   "source": [
    "[[school_notebook:87b67dafd7544e3380af278ff4f22d77]]"
   ]
  },
  {
   "cell_type": "markdown",
   "metadata": {},
   "source": [
    "[[school_notebook:37a330dfc8de45e9ba475cbbd201ab53]]"
   ]
  },
  {
   "cell_type": "markdown",
   "metadata": {},
   "source": [
    "[[school_notebook:14bde0cc05514b2cae2088805ef9ed52]]"
   ]
  },
  {
   "cell_type": "markdown",
   "metadata": {},
   "source": [
    "[[school_notebook:d2bdfc87a7be487c96a8d946e8de3e9b]]"
   ]
  },
  {
   "cell_type": "markdown",
   "metadata": {},
   "source": [
    "[[school_notebook:864a2cc43df44531be32e3fa48769501]]"
   ]
  },
  {
   "cell_type": "markdown",
   "metadata": {},
   "source": [
    "[[school_notebook:f69960ede82f47b7a72b03b40aaa452c]]"
   ]
  },
  {
   "cell_type": "markdown",
   "metadata": {},
   "source": [
    "[[school_notebook:ae35a40deb884cf88e85135b4b5a1130]]"
   ]
  },
  {
   "cell_type": "markdown",
   "metadata": {},
   "source": [
    "### 12. Scikit-Learn &  statsmodels 패키지 소개 <small>Introduction to Scikit-Learn & statsmodels packages</small>"
   ]
  },
  {
   "cell_type": "markdown",
   "metadata": {},
   "source": [
    "[[school_notebook:293ece8b0d124fbaa4d4d52bb8f1cb42]]"
   ]
  },
  {
   "cell_type": "markdown",
   "metadata": {},
   "source": [
    "[[school_notebook:e6bd77468ab345639c6ecccf4a24a838]]"
   ]
  },
  {
   "cell_type": "markdown",
   "metadata": {},
   "source": [
    "[[school_notebook:4b948c4d99c94213bf02bcff2ced88eb]]"
   ]
  },
  {
   "cell_type": "markdown",
   "metadata": {},
   "source": [
    "[[school_notebook:577a01e24d4f456bb5060da6e47054e1]]"
   ]
  },
  {
   "cell_type": "markdown",
   "metadata": {},
   "source": [
    "[[school_notebook:77ee0e1bb6754ad89e0da14c6d461953]]"
   ]
  },
  {
   "cell_type": "markdown",
   "metadata": {},
   "source": [
    "### 13. 데이터 전처리 <small>Data Preprocessing</small>"
   ]
  },
  {
   "cell_type": "markdown",
   "metadata": {},
   "source": [
    "[[school_notebook:f43be7d6515b48c0beb909826993c856]]"
   ]
  },
  {
   "cell_type": "markdown",
   "metadata": {},
   "source": [
    "### 14. 선형 회귀 분석 <small>Linear Regression Analysis</small>"
   ]
  },
  {
   "cell_type": "markdown",
   "metadata": {},
   "source": [
    "[[school_notebook:0224ae9672eb4ab789c395a2ca2335e9]]"
   ]
  },
  {
   "cell_type": "markdown",
   "metadata": {},
   "source": [
    "[[school_notebook:58269d7f52bd49879965cdc4721da42d]]"
   ]
  },
  {
   "cell_type": "markdown",
   "metadata": {},
   "source": [
    "[[school_notebook:6d9c833f132e4e789e35632b49be2c2d]]"
   ]
  },
  {
   "cell_type": "markdown",
   "metadata": {},
   "source": [
    "[[school_notebook:743cdedec523447a907b2b0abda45533]]"
   ]
  },
  {
   "cell_type": "markdown",
   "metadata": {},
   "source": [
    "[[school_notebook:2787ec5d30664dea850fe0a940e5c1e4]]"
   ]
  },
  {
   "cell_type": "markdown",
   "metadata": {},
   "source": [
    "[[school_notebook:a60e97ad90164e07ad236095ca74e657]]"
   ]
  },
  {
   "cell_type": "markdown",
   "metadata": {},
   "source": [
    "[[school_notebook:7dda1bc9ad1c435fb309ea88f672eff9]]"
   ]
  },
  {
   "cell_type": "markdown",
   "metadata": {},
   "source": [
    "[[school_notebook:c642f2d81d134c9f9b6e3b88135a3393]]"
   ]
  },
  {
   "cell_type": "markdown",
   "metadata": {},
   "source": [
    "[[school_notebook:bfe4438b46674c68a5ba6598147a5527]]"
   ]
  },
  {
   "cell_type": "markdown",
   "metadata": {},
   "source": [
    "### 15. 과최적화<small>Overfitting</small>와 정규화 <small>Regularization</small>"
   ]
  },
  {
   "cell_type": "markdown",
   "metadata": {},
   "source": [
    "[[school_notebook:ff9458c7156c4961b012c60e5fc97301]]"
   ]
  },
  {
   "cell_type": "markdown",
   "metadata": {},
   "source": [
    "[[school_notebook:266d699d748847b3a3aa7b9805b846ae]]"
   ]
  },
  {
   "cell_type": "markdown",
   "metadata": {},
   "source": [
    "[[school_notebook:83d5e4fff7d64cb2aecfd7e42e1ece5e]]"
   ]
  },
  {
   "cell_type": "markdown",
   "metadata": {},
   "source": [
    "[[school_notebook:db3f627fa93e4e3bb1001de86465f783]]"
   ]
  },
  {
   "cell_type": "markdown",
   "metadata": {},
   "source": [
    "### 16. 로지스틱 회귀 분석 <small>Logistic Regression</small>"
   ]
  },
  {
   "cell_type": "markdown",
   "metadata": {},
   "source": [
    "[[school_notebook:d0df94cf8dd74e8daec7983531f68dfc]]"
   ]
  },
  {
   "cell_type": "markdown",
   "metadata": {},
   "source": [
    "### 17. 분류<small>Classification</small>의 기초 "
   ]
  },
  {
   "cell_type": "markdown",
   "metadata": {},
   "source": [
    "[[school_notebook:ec26c797cec646e295d737c522733b15]]"
   ]
  },
  {
   "cell_type": "markdown",
   "metadata": {},
   "source": [
    "[[school_notebook:e2790743099742a396cfa4955ffc8a1f]]"
   ]
  },
  {
   "cell_type": "markdown",
   "metadata": {},
   "source": [
    "[[school_notebook:7a6b958e9d51451689138cca93a047d8]]"
   ]
  },
  {
   "cell_type": "markdown",
   "metadata": {},
   "source": [
    "[[school_notebook:731e0d2ef52c41c686ba53dcaf346f32]]"
   ]
  },
  {
   "cell_type": "markdown",
   "metadata": {},
   "source": [
    "### 18. 문서 전처리 <small>Text Preprocessing</small>"
   ]
  },
  {
   "cell_type": "markdown",
   "metadata": {},
   "source": [
    "[[school_notebook:250c1869eab54157827adf54c5e9f064]]"
   ]
  },
  {
   "cell_type": "markdown",
   "metadata": {},
   "source": [
    "[[school_notebook:118731eec74b4ad3bdd2f89bab077e1b]]"
   ]
  },
  {
   "cell_type": "markdown",
   "metadata": {},
   "source": [
    "[[school_notebook:70ce46db4ced4a999c6ec349df0f4eb0]]"
   ]
  },
  {
   "cell_type": "markdown",
   "metadata": {},
   "source": [
    "[[school_notebook:3e7aadbf88ed4f0d87a76f9ddc925d69]]"
   ]
  },
  {
   "cell_type": "markdown",
   "metadata": {},
   "source": [
    "### 19. 나이브 베이즈 <small>Naive Bayesian</small>"
   ]
  },
  {
   "cell_type": "markdown",
   "metadata": {},
   "source": [
    "[[school_notebook:c19b48e3c7b048668f2bb0a113bd25f7]]"
   ]
  },
  {
   "cell_type": "markdown",
   "metadata": {},
   "source": [
    "### 20. QDA and LDA"
   ]
  },
  {
   "cell_type": "markdown",
   "metadata": {},
   "source": [
    "[[school_notebook:2c6a8e003219446995f3d866ac8a6fd1]]"
   ]
  },
  {
   "cell_type": "markdown",
   "metadata": {},
   "source": [
    "### 21. 의사 결정 나무 <small>Decision Tree</small>"
   ]
  },
  {
   "cell_type": "markdown",
   "metadata": {},
   "source": [
    "[[school_notebook:583f056ecca24bf78e6850af1439a104]]"
   ]
  },
  {
   "cell_type": "markdown",
   "metadata": {},
   "source": [
    "[[school_notebook:d3ecf5cc7027441c8509c0cae7fea088]]"
   ]
  },
  {
   "cell_type": "markdown",
   "metadata": {},
   "source": [
    "[[school_notebook:16c28c8c192147bfb3d4059474209e0a]]"
   ]
  },
  {
   "cell_type": "markdown",
   "metadata": {},
   "source": [
    "### 22. 퍼셉트론 <small>Perceptron</small>"
   ]
  },
  {
   "cell_type": "markdown",
   "metadata": {},
   "source": [
    "[[school_notebook:342b8e2ecf7a4911a727e6fe97f4ab6b]]"
   ]
  },
  {
   "cell_type": "markdown",
   "metadata": {},
   "source": [
    "### 23. PCA <small>Principal Component Analysis</small>"
   ]
  },
  {
   "cell_type": "markdown",
   "metadata": {},
   "source": [
    "[[school_notebook:dd1680bfbaab414a8d54dc978c6e883a]]"
   ]
  },
  {
   "cell_type": "markdown",
   "metadata": {},
   "source": [
    "[[school_notebook:7fd58178d9e64be682058db7e024d8b5]]"
   ]
  },
  {
   "cell_type": "markdown",
   "metadata": {},
   "source": [
    "[[school_notebook:f10aad8a34a4489697933f77c5d58e3a]]"
   ]
  },
  {
   "cell_type": "markdown",
   "metadata": {},
   "source": [
    "### 24. 서포트 벡터 머신 <small>SVM: Support Vector Machine</small>"
   ]
  },
  {
   "cell_type": "markdown",
   "metadata": {},
   "source": [
    "[[school_notebook:6c6d450cb2ee49558856fd924b326e00]]"
   ]
  },
  {
   "cell_type": "markdown",
   "metadata": {},
   "source": [
    "[[school_notebook:69278a5de79449019ad1f51a614ef87c]]"
   ]
  },
  {
   "cell_type": "markdown",
   "metadata": {},
   "source": [
    "### 25. 앙상블 방법론 <small>Ensemble Methods</small>"
   ]
  },
  {
   "cell_type": "markdown",
   "metadata": {},
   "source": [
    "[[school_notebook:766fe73c5c46424ca65329a9557d0918]]"
   ]
  },
  {
   "cell_type": "markdown",
   "metadata": {},
   "source": [
    "### 26. 클러스터링 <small>Clustering</small>"
   ]
  },
  {
   "cell_type": "markdown",
   "metadata": {},
   "source": [
    "[[school_notebook:2205ad8f0c5947c08696e8927b466341]]"
   ]
  },
  {
   "cell_type": "markdown",
   "metadata": {},
   "source": [
    "[[school_notebook:094bcb7b86574711a2e8d81f26bce2f5]]"
   ]
  },
  {
   "cell_type": "markdown",
   "metadata": {},
   "source": [
    "### 27. 모형 최적화 <small>Model optimization</small>"
   ]
  },
  {
   "cell_type": "markdown",
   "metadata": {},
   "source": [
    "[[school_notebook:ff4b5d491cc34f94aea04baca86fbef8]]"
   ]
  },
  {
   "cell_type": "markdown",
   "metadata": {},
   "source": [
    "[[school_notebook:0e9636f97c3d4b47b87a08b2ef0349b7]]"
   ]
  },
  {
   "cell_type": "markdown",
   "metadata": {},
   "source": [
    "### 27. 뉴럴 네트워크 <small>Neural Network</small>"
   ]
  },
  {
   "cell_type": "markdown",
   "metadata": {},
   "source": [
    "[[school_notebook:a7ce18eb02b54cbfa760636cc76a4640]]"
   ]
  },
  {
   "cell_type": "markdown",
   "metadata": {},
   "source": [
    "[[school_notebook:5cbab09d777841f591a67928d7043f51]]"
   ]
  },
  {
   "cell_type": "markdown",
   "metadata": {},
   "source": [
    "[[school_notebook:0178802a219c4e6bb9b820b49bf57f91]]"
   ]
  },
  {
   "cell_type": "markdown",
   "metadata": {},
   "source": [
    "[[school_notebook:09f684ef16b14306abc07627348bc2db]]"
   ]
  },
  {
   "cell_type": "markdown",
   "metadata": {},
   "source": [
    "[[school_notebook:51e147088d474fe1bf32e394394eaea7]]"
   ]
  },
  {
   "cell_type": "markdown",
   "metadata": {},
   "source": [
    "## 교재 및 참고 문헌"
   ]
  },
  {
   "cell_type": "markdown",
   "metadata": {},
   "source": [
    "[[school_notebook:ffb96882876643f4864eb9aabe21dd2e]]"
   ]
  }
 ],
 "metadata": {
  "celltoolbar": "Edit Metadata",
  "kernelspec": {
   "display_name": "Python [Root]",
   "language": "python",
   "name": "Python [Root]"
  },
  "language_info": {
   "codemirror_mode": {
    "name": "ipython",
    "version": 2
   },
   "file_extension": ".py",
   "mimetype": "text/x-python",
   "name": "python",
   "nbconvert_exporter": "python",
   "pygments_lexer": "ipython2",
   "version": "2.7.11"
  }
 },
 "nbformat": 4,
 "nbformat_minor": 0
}